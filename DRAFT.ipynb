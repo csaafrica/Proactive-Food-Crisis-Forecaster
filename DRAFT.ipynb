{
 "cells": [
  {
   "cell_type": "code",
   "execution_count": 58,
   "id": "5101080f-8533-4b9b-94cf-cf59cbed8de0",
   "metadata": {},
   "outputs": [
    {
     "data": {
      "text/html": [
       "        <script type=\"text/javascript\">\n",
       "        window.PlotlyConfig = {MathJaxConfig: 'local'};\n",
       "        if (window.MathJax && window.MathJax.Hub && window.MathJax.Hub.Config) {window.MathJax.Hub.Config({SVG: {font: \"STIX-Web\"}});}\n",
       "        </script>\n",
       "        <script type=\"module\">import \"https://cdn.plot.ly/plotly-3.0.1.min\"</script>\n",
       "        "
      ]
     },
     "metadata": {},
     "output_type": "display_data"
    },
    {
     "name": "stdout",
     "output_type": "stream",
     "text": [
      "✅ All libraries imported successfully!\n",
      "📊 Ready to build Kenya Food Security Warning System\n"
     ]
    }
   ],
   "source": [
    "import pandas as pd\n",
    "import numpy as np\n",
    "import matplotlib.pyplot as plt\n",
    "import seaborn as sns\n",
    "import plotly.express as px\n",
    "import plotly.graph_objects as go\n",
    "from plotly.subplots import make_subplots\n",
    "import plotly.offline as pyo\n",
    "from datetime import datetime, timedelta\n",
    "import warnings\n",
    "warnings.filterwarnings('ignore')\n",
    "\n",
    "# Machine Learning Libraries\n",
    "from sklearn.model_selection import train_test_split, cross_val_score\n",
    "from sklearn.ensemble import RandomForestClassifier, RandomForestRegressor\n",
    "from sklearn.linear_model import LogisticRegression\n",
    "from sklearn.metrics import classification_report, confusion_matrix, accuracy_score\n",
    "from sklearn.preprocessing import StandardScaler, LabelEncoder\n",
    "import joblib\n",
    "\n",
    "# Display settings\n",
    "pd.set_option('display.max_columns', None)\n",
    "plt.style.use('seaborn-v0_8')\n",
    "pyo.init_notebook_mode(connected=True)\n",
    "\n",
    "print(\"✅ All libraries imported successfully!\")\n",
    "print(\"📊 Ready to build Kenya Food Security Warning System\")\n"
   ]
  },
  {
   "cell_type": "code",
   "execution_count": 59,
   "id": "fe61276b-f509-4581-b3c8-c029f9a241cb",
   "metadata": {},
   "outputs": [
    {
     "name": "stdout",
     "output_type": "stream",
     "text": [
      "🔍 DATASET OVERVIEW\n",
      "==================================================\n",
      "Dataset shape: (24, 19)\n",
      "Date range: 2023-01-01 to 2024-12-01\n",
      "Counties covered: ['Turkana']\n",
      "\n",
      "📋 COLUMN INFORMATION\n",
      "==================================================\n",
      "<class 'pandas.core.frame.DataFrame'>\n",
      "RangeIndex: 24 entries, 0 to 23\n",
      "Data columns (total 19 columns):\n",
      " #   Column               Non-Null Count  Dtype  \n",
      "---  ------               --------------  -----  \n",
      " 0   date                 24 non-null     object \n",
      " 1   county               24 non-null     object \n",
      " 2   population           24 non-null     int64  \n",
      " 3   rainfall_mm          24 non-null     int64  \n",
      " 4   rainfall_anomaly     24 non-null     float64\n",
      " 5   temperature_avg      24 non-null     float64\n",
      " 6   food_price_index     24 non-null     int64  \n",
      " 7   maize_price_ksh      24 non-null     int64  \n",
      " 8   beans_price_ksh      24 non-null     int64  \n",
      " 9   ipc_phase            24 non-null     int64  \n",
      " 10  ipc_population       24 non-null     int64  \n",
      " 11  conflict_events      24 non-null     int64  \n",
      " 12  conflict_fatalities  24 non-null     int64  \n",
      " 13  ndvi_anomaly         24 non-null     float64\n",
      " 14  market_access        24 non-null     int64  \n",
      " 15  livestock_price      24 non-null     int64  \n",
      " 16  displacement         24 non-null     int64  \n",
      " 17  drought_index        24 non-null     float64\n",
      " 18  season               24 non-null     object \n",
      "dtypes: float64(4), int64(12), object(3)\n",
      "memory usage: 3.7+ KB\n",
      "None\n",
      "\n",
      "📊 STATISTICAL SUMMARY\n",
      "==================================================\n",
      "          population  rainfall_mm  rainfall_anomaly  temperature_avg  \\\n",
      "count      24.000000    24.000000         24.000000        24.000000   \n",
      "mean   922500.000000    40.375000        -22.512500        29.166667   \n",
      "std      2553.769592    19.331912         34.759338         1.701832   \n",
      "min    920000.000000    15.000000        -70.000000        26.500000   \n",
      "25%    920000.000000    24.750000        -50.500000        27.725000   \n",
      "50%    922500.000000    36.500000        -28.650000        29.150000   \n",
      "75%    925000.000000    55.750000          6.625000        30.350000   \n",
      "max    925000.000000    78.000000         36.000000        32.100000   \n",
      "\n",
      "       food_price_index  maize_price_ksh  beans_price_ksh  ipc_phase  \\\n",
      "count         24.000000        24.000000        24.000000  24.000000   \n",
      "mean          96.041667        73.666667       132.166667   2.958333   \n",
      "std            8.232909         5.873053         9.818645   0.750604   \n",
      "min           82.000000        64.000000       115.000000   2.000000   \n",
      "25%           89.500000        68.750000       124.250000   2.000000   \n",
      "50%           95.500000        73.000000       132.000000   3.000000   \n",
      "75%          102.500000        78.000000       140.000000   3.250000   \n",
      "max          110.000000        84.000000       148.000000   4.000000   \n",
      "\n",
      "       ipc_population  conflict_events  conflict_fatalities  ndvi_anomaly  \\\n",
      "count       24.000000        24.000000            24.000000     24.000000   \n",
      "mean    342125.000000         1.583333             3.583333     -0.508333   \n",
      "std     117027.704821         1.017955             3.020462      0.512383   \n",
      "min     184000.000000         0.000000             0.000000     -1.500000   \n",
      "25%     276000.000000         1.000000             1.000000     -0.850000   \n",
      "50%     368000.000000         1.500000             3.000000     -0.500000   \n",
      "75%     460000.000000         2.000000             5.000000     -0.100000   \n",
      "max     555000.000000         4.000000            12.000000      0.300000   \n",
      "\n",
      "       market_access  livestock_price  displacement  drought_index  \n",
      "count      24.000000        24.000000     24.000000      24.000000  \n",
      "mean       59.833333     14362.500000   6783.333333      -1.050000  \n",
      "std         8.143638      1318.039552   1748.208192       0.879229  \n",
      "min        47.000000     12200.000000   4000.000000      -2.300000  \n",
      "25%        53.500000     13425.000000   5425.000000      -1.825000  \n",
      "50%        59.000000     14100.000000   6650.000000      -1.150000  \n",
      "75%        65.500000     15275.000000   8125.000000      -0.375000  \n",
      "max        74.000000     16800.000000   9800.000000       0.500000  \n",
      "\n",
      "❌ MISSING VALUES\n",
      "==================================================\n",
      "date                   0\n",
      "county                 0\n",
      "population             0\n",
      "rainfall_mm            0\n",
      "rainfall_anomaly       0\n",
      "temperature_avg        0\n",
      "food_price_index       0\n",
      "maize_price_ksh        0\n",
      "beans_price_ksh        0\n",
      "ipc_phase              0\n",
      "ipc_population         0\n",
      "conflict_events        0\n",
      "conflict_fatalities    0\n",
      "ndvi_anomaly           0\n",
      "market_access          0\n",
      "livestock_price        0\n",
      "displacement           0\n",
      "drought_index          0\n",
      "season                 0\n",
      "dtype: int64\n",
      "\n",
      "👀 FIRST 5 ROWS\n",
      "==================================================\n",
      "         date   county  population  rainfall_mm  rainfall_anomaly  \\\n",
      "0  2023-01-01  Turkana      920000           45             -15.3   \n",
      "1  2023-02-01  Turkana      920000           32             -38.5   \n",
      "2  2023-03-01  Turkana      920000           28             -44.0   \n",
      "3  2023-04-01  Turkana      920000           65              18.2   \n",
      "4  2023-05-01  Turkana      920000           78              35.2   \n",
      "\n",
      "   temperature_avg  food_price_index  maize_price_ksh  beans_price_ksh  \\\n",
      "0             28.5                85               65              120   \n",
      "1             29.2                90               68              125   \n",
      "2             30.1                95               72              130   \n",
      "3             27.8                88               69              122   \n",
      "4             26.5                82               64              115   \n",
      "\n",
      "   ipc_phase  ipc_population  conflict_events  conflict_fatalities  \\\n",
      "0          2          184000                1                    2   \n",
      "1          3          276000                2                    5   \n",
      "2          3          368000                1                    1   \n",
      "3          2          276000                0                    0   \n",
      "4          2          184000                1                    3   \n",
      "\n",
      "   ndvi_anomaly  market_access  livestock_price  displacement  drought_index  \\\n",
      "0          -0.2             65            15000          5200           -0.8   \n",
      "1          -0.5             62            14500          5800           -1.2   \n",
      "2          -0.8             58            14000          6200           -1.5   \n",
      "3          -0.1             68            15500          4800           -0.3   \n",
      "4           0.3             72            16000          4200            0.2   \n",
      "\n",
      "       season  \n",
      "0         Dry  \n",
      "1         Dry  \n",
      "2  Long_Rains  \n",
      "3  Long_Rains  \n",
      "4  Long_Rains  \n"
     ]
    }
   ],
   "source": [
    "df = pd.read_csv('kenya_food_security_data.csv')\n",
    "\n",
    "print(\"🔍 DATASET OVERVIEW\")\n",
    "print(\"=\" * 50)\n",
    "print(f\"Dataset shape: {df.shape}\")\n",
    "print(f\"Date range: {df['date'].min()} to {df['date'].max()}\")\n",
    "print(f\"Counties covered: {df['county'].unique()}\")\n",
    "\n",
    "# Basic info\n",
    "print(\"\\n📋 COLUMN INFORMATION\")\n",
    "print(\"=\" * 50)\n",
    "print(df.info())\n",
    "\n",
    "print(\"\\n📊 STATISTICAL SUMMARY\")\n",
    "print(\"=\" * 50)\n",
    "print(df.describe())\n",
    "\n",
    "# Check for missing values\n",
    "print(\"\\n❌ MISSING VALUES\")\n",
    "print(\"=\" * 50)\n",
    "print(df.isnull().sum())\n",
    "\n",
    "# Display first few rows\n",
    "print(\"\\n👀 FIRST 5 ROWS\")\n",
    "print(\"=\" * 50)\n",
    "print(df.head())"
   ]
  },
  {
   "cell_type": "code",
   "execution_count": 47,
   "id": "5a9a4934-99ef-49de-b28f-e85f38d5306e",
   "metadata": {},
   "outputs": [
    {
     "name": "stdout",
     "output_type": "stream",
     "text": [
      "✅ Feature engineering completed!\n",
      "New dataset shape: (24, 33)\n",
      "New features created: ['food_price_lag1', 'conflict_lag1', 'rainfall_ma3', 'food_price_ma3', 'drought_risk', 'price_shock', 'conflict_risk', 'combined_risk_score', 'next_month_ipc', 'ipc_deterioration']\n"
     ]
    }
   ],
   "source": [
    "# Convert date column to datetime\n",
    "df['date'] = pd.to_datetime(df['date'])\n",
    "df['year'] = df['date'].dt.year\n",
    "df['month'] = df['date'].dt.month\n",
    "df['quarter'] = df['date'].dt.quarter\n",
    "\n",
    "# Create lag features (previous month values)\n",
    "df = df.sort_values('date')\n",
    "df['rainfall_lag1'] = df['rainfall_mm'].shift(1)\n",
    "df['food_price_lag1'] = df['food_price_index'].shift(1)\n",
    "df['conflict_lag1'] = df['conflict_events'].shift(1)\n",
    "\n",
    "# Create moving averages\n",
    "df['rainfall_ma3'] = df['rainfall_mm'].rolling(window=3).mean()\n",
    "df['food_price_ma3'] = df['food_price_index'].rolling(window=3).mean()\n",
    "\n",
    "# Create risk indicators\n",
    "df['drought_risk'] = np.where(df['rainfall_anomaly'] < -30, 1, 0)\n",
    "df['price_shock'] = np.where(df['food_price_index'] > 100, 1, 0)\n",
    "df['conflict_risk'] = np.where(df['conflict_events'] > 2, 1, 0)\n",
    "\n",
    "# Combined risk score\n",
    "df['combined_risk_score'] = (\n",
    "    df['drought_risk'] * 0.4 +\n",
    "    df['price_shock'] * 0.3 +\n",
    "    df['conflict_risk'] * 0.3\n",
    ") * 100\n",
    "\n",
    "# Create target variable for next month IPC phase\n",
    "df['next_month_ipc'] = df['ipc_phase'].shift(-1)\n",
    "df['ipc_deterioration'] = np.where(df['next_month_ipc'] > df['ipc_phase'], 1, 0)\n",
    "\n",
    "print(\"✅ Feature engineering completed!\")\n",
    "print(f\"New dataset shape: {df.shape}\")\n",
    "print(f\"New features created: {df.columns[-10:].tolist()}\")"
   ]
  },
  {
   "cell_type": "code",
   "execution_count": 48,
   "id": "dfb4664f-f6f4-4d3c-86ee-04ea54f6da7d",
   "metadata": {},
   "outputs": [
    {
     "data": {
      "application/vnd.plotly.v1+json": {
       "config": {
        "plotlyServerURL": "https://plot.ly"
       },
       "data": [
        {
         "line": {
          "color": "red",
          "width": 3
         },
         "mode": "lines+markers",
         "name": "IPC Phase",
         "type": "scatter",
         "x": [
          "2023-01-01T00:00:00.000000000",
          "2023-02-01T00:00:00.000000000",
          "2023-03-01T00:00:00.000000000",
          "2023-04-01T00:00:00.000000000",
          "2023-05-01T00:00:00.000000000",
          "2023-06-01T00:00:00.000000000",
          "2023-07-01T00:00:00.000000000",
          "2023-08-01T00:00:00.000000000",
          "2023-09-01T00:00:00.000000000",
          "2023-10-01T00:00:00.000000000",
          "2023-11-01T00:00:00.000000000",
          "2023-12-01T00:00:00.000000000",
          "2024-01-01T00:00:00.000000000",
          "2024-02-01T00:00:00.000000000",
          "2024-03-01T00:00:00.000000000",
          "2024-04-01T00:00:00.000000000",
          "2024-05-01T00:00:00.000000000",
          "2024-06-01T00:00:00.000000000",
          "2024-07-01T00:00:00.000000000",
          "2024-08-01T00:00:00.000000000",
          "2024-09-01T00:00:00.000000000",
          "2024-10-01T00:00:00.000000000",
          "2024-11-01T00:00:00.000000000",
          "2024-12-01T00:00:00.000000000"
         ],
         "xaxis": "x",
         "y": {
          "bdata": "AgMDAgIDBAQEAwMCAwMDAgIDBAQEAwMC",
          "dtype": "i1"
         },
         "yaxis": "y"
        },
        {
         "line": {
          "color": "blue"
         },
         "mode": "lines",
         "name": "Rainfall (mm)",
         "type": "scatter",
         "x": [
          "2023-01-01T00:00:00.000000000",
          "2023-02-01T00:00:00.000000000",
          "2023-03-01T00:00:00.000000000",
          "2023-04-01T00:00:00.000000000",
          "2023-05-01T00:00:00.000000000",
          "2023-06-01T00:00:00.000000000",
          "2023-07-01T00:00:00.000000000",
          "2023-08-01T00:00:00.000000000",
          "2023-09-01T00:00:00.000000000",
          "2023-10-01T00:00:00.000000000",
          "2023-11-01T00:00:00.000000000",
          "2023-12-01T00:00:00.000000000",
          "2024-01-01T00:00:00.000000000",
          "2024-02-01T00:00:00.000000000",
          "2024-03-01T00:00:00.000000000",
          "2024-04-01T00:00:00.000000000",
          "2024-05-01T00:00:00.000000000",
          "2024-06-01T00:00:00.000000000",
          "2024-07-01T00:00:00.000000000",
          "2024-08-01T00:00:00.000000000",
          "2024-09-01T00:00:00.000000000",
          "2024-10-01T00:00:00.000000000",
          "2024-11-01T00:00:00.000000000",
          "2024-12-01T00:00:00.000000000"
         ],
         "xaxis": "x2",
         "y": {
          "bdata": "LSAcQU4ZEg8WIzdEKiYeOkgcFBAYJjRB",
          "dtype": "i1"
         },
         "yaxis": "y2"
        },
        {
         "line": {
          "color": "orange"
         },
         "mode": "lines",
         "name": "Rainfall Anomaly (%)",
         "type": "scatter",
         "x": [
          "2023-01-01T00:00:00.000000000",
          "2023-02-01T00:00:00.000000000",
          "2023-03-01T00:00:00.000000000",
          "2023-04-01T00:00:00.000000000",
          "2023-05-01T00:00:00.000000000",
          "2023-06-01T00:00:00.000000000",
          "2023-07-01T00:00:00.000000000",
          "2023-08-01T00:00:00.000000000",
          "2023-09-01T00:00:00.000000000",
          "2023-10-01T00:00:00.000000000",
          "2023-11-01T00:00:00.000000000",
          "2023-12-01T00:00:00.000000000",
          "2024-01-01T00:00:00.000000000",
          "2024-02-01T00:00:00.000000000",
          "2024-03-01T00:00:00.000000000",
          "2024-04-01T00:00:00.000000000",
          "2024-05-01T00:00:00.000000000",
          "2024-06-01T00:00:00.000000000",
          "2024-07-01T00:00:00.000000000",
          "2024-08-01T00:00:00.000000000",
          "2024-09-01T00:00:00.000000000",
          "2024-10-01T00:00:00.000000000",
          "2024-11-01T00:00:00.000000000",
          "2024-12-01T00:00:00.000000000"
         ],
         "xaxis": "x2",
         "y": {
          "bdata": "mpmZmZmZLsAAAAAAAEBDwAAAAAAAAEbAMzMzMzMzMkCamZmZmZlBQAAAAAAAAEnAAAAAAAAAUMAAAAAAAIBRwAAAAAAAAEzAAAAAAAAAPsAAAAAAAAAkQAAAAAAAAEJAmpmZmZkZNcDNzMzMzEw7wAAAAAAAAETAAAAAAAAAFkAAAAAAAAA5QAAAAAAAAEbAAAAAAAAATsAAAAAAAABRwAAAAAAAAErAAAAAAAAAOMAAAAAAAAAQQAAAAAAAAD5A",
          "dtype": "f8"
         },
         "yaxis": "y3"
        },
        {
         "line": {
          "color": "green"
         },
         "mode": "lines",
         "name": "Food Price Index",
         "type": "scatter",
         "x": [
          "2023-01-01T00:00:00.000000000",
          "2023-02-01T00:00:00.000000000",
          "2023-03-01T00:00:00.000000000",
          "2023-04-01T00:00:00.000000000",
          "2023-05-01T00:00:00.000000000",
          "2023-06-01T00:00:00.000000000",
          "2023-07-01T00:00:00.000000000",
          "2023-08-01T00:00:00.000000000",
          "2023-09-01T00:00:00.000000000",
          "2023-10-01T00:00:00.000000000",
          "2023-11-01T00:00:00.000000000",
          "2023-12-01T00:00:00.000000000",
          "2024-01-01T00:00:00.000000000",
          "2024-02-01T00:00:00.000000000",
          "2024-03-01T00:00:00.000000000",
          "2024-04-01T00:00:00.000000000",
          "2024-05-01T00:00:00.000000000",
          "2024-06-01T00:00:00.000000000",
          "2024-07-01T00:00:00.000000000",
          "2024-08-01T00:00:00.000000000",
          "2024-09-01T00:00:00.000000000",
          "2024-10-01T00:00:00.000000000",
          "2024-11-01T00:00:00.000000000",
          "2024-12-01T00:00:00.000000000"
         ],
         "xaxis": "x3",
         "y": {
          "bdata": "VVpfWFJiaW5sZl9YXGBkW1ViaGxqZF1W",
          "dtype": "i1"
         },
         "yaxis": "y4"
        },
        {
         "marker": {
          "color": "darkred"
         },
         "name": "Conflict Events",
         "opacity": 0.7,
         "type": "bar",
         "x": [
          "2023-01-01T00:00:00.000000000",
          "2023-02-01T00:00:00.000000000",
          "2023-03-01T00:00:00.000000000",
          "2023-04-01T00:00:00.000000000",
          "2023-05-01T00:00:00.000000000",
          "2023-06-01T00:00:00.000000000",
          "2023-07-01T00:00:00.000000000",
          "2023-08-01T00:00:00.000000000",
          "2023-09-01T00:00:00.000000000",
          "2023-10-01T00:00:00.000000000",
          "2023-11-01T00:00:00.000000000",
          "2023-12-01T00:00:00.000000000",
          "2024-01-01T00:00:00.000000000",
          "2024-02-01T00:00:00.000000000",
          "2024-03-01T00:00:00.000000000",
          "2024-04-01T00:00:00.000000000",
          "2024-05-01T00:00:00.000000000",
          "2024-06-01T00:00:00.000000000",
          "2024-07-01T00:00:00.000000000",
          "2024-08-01T00:00:00.000000000",
          "2024-09-01T00:00:00.000000000",
          "2024-10-01T00:00:00.000000000",
          "2024-11-01T00:00:00.000000000",
          "2024-12-01T00:00:00.000000000"
         ],
         "xaxis": "x4",
         "y": {
          "bdata": "AQIBAAECAwIBAgEAAgEDAQACBAMCAQIB",
          "dtype": "i1"
         },
         "yaxis": "y5"
        },
        {
         "line": {
          "color": "black"
         },
         "mode": "lines",
         "name": "Fatalities",
         "type": "scatter",
         "x": [
          "2023-01-01T00:00:00.000000000",
          "2023-02-01T00:00:00.000000000",
          "2023-03-01T00:00:00.000000000",
          "2023-04-01T00:00:00.000000000",
          "2023-05-01T00:00:00.000000000",
          "2023-06-01T00:00:00.000000000",
          "2023-07-01T00:00:00.000000000",
          "2023-08-01T00:00:00.000000000",
          "2023-09-01T00:00:00.000000000",
          "2023-10-01T00:00:00.000000000",
          "2023-11-01T00:00:00.000000000",
          "2023-12-01T00:00:00.000000000",
          "2024-01-01T00:00:00.000000000",
          "2024-02-01T00:00:00.000000000",
          "2024-03-01T00:00:00.000000000",
          "2024-04-01T00:00:00.000000000",
          "2024-05-01T00:00:00.000000000",
          "2024-06-01T00:00:00.000000000",
          "2024-07-01T00:00:00.000000000",
          "2024-08-01T00:00:00.000000000",
          "2024-09-01T00:00:00.000000000",
          "2024-10-01T00:00:00.000000000",
          "2024-11-01T00:00:00.000000000",
          "2024-12-01T00:00:00.000000000"
         ],
         "xaxis": "x4",
         "y": {
          "bdata": "AgUBAAMECAYCBQEABQIIAQAEDAcDAgQB",
          "dtype": "i1"
         },
         "yaxis": "y6"
        }
       ],
       "layout": {
        "annotations": [
         {
          "font": {
           "size": 16
          },
          "showarrow": false,
          "text": "IPC Phase Evolution",
          "x": 0.47,
          "xanchor": "center",
          "xref": "paper",
          "y": 1,
          "yanchor": "bottom",
          "yref": "paper"
         },
         {
          "font": {
           "size": 16
          },
          "showarrow": false,
          "text": "Rainfall Patterns",
          "x": 0.47,
          "xanchor": "center",
          "xref": "paper",
          "y": 0.73,
          "yanchor": "bottom",
          "yref": "paper"
         },
         {
          "font": {
           "size": 16
          },
          "showarrow": false,
          "text": "Food Price Trends",
          "x": 0.47,
          "xanchor": "center",
          "xref": "paper",
          "y": 0.46,
          "yanchor": "bottom",
          "yref": "paper"
         },
         {
          "font": {
           "size": 16
          },
          "showarrow": false,
          "text": "Conflict Events",
          "x": 0.47,
          "xanchor": "center",
          "xref": "paper",
          "y": 0.19,
          "yanchor": "bottom",
          "yref": "paper"
         }
        ],
        "height": 800,
        "showlegend": true,
        "template": {
         "data": {
          "bar": [
           {
            "error_x": {
             "color": "#2a3f5f"
            },
            "error_y": {
             "color": "#2a3f5f"
            },
            "marker": {
             "line": {
              "color": "#E5ECF6",
              "width": 0.5
             },
             "pattern": {
              "fillmode": "overlay",
              "size": 10,
              "solidity": 0.2
             }
            },
            "type": "bar"
           }
          ],
          "barpolar": [
           {
            "marker": {
             "line": {
              "color": "#E5ECF6",
              "width": 0.5
             },
             "pattern": {
              "fillmode": "overlay",
              "size": 10,
              "solidity": 0.2
             }
            },
            "type": "barpolar"
           }
          ],
          "carpet": [
           {
            "aaxis": {
             "endlinecolor": "#2a3f5f",
             "gridcolor": "white",
             "linecolor": "white",
             "minorgridcolor": "white",
             "startlinecolor": "#2a3f5f"
            },
            "baxis": {
             "endlinecolor": "#2a3f5f",
             "gridcolor": "white",
             "linecolor": "white",
             "minorgridcolor": "white",
             "startlinecolor": "#2a3f5f"
            },
            "type": "carpet"
           }
          ],
          "choropleth": [
           {
            "colorbar": {
             "outlinewidth": 0,
             "ticks": ""
            },
            "type": "choropleth"
           }
          ],
          "contour": [
           {
            "colorbar": {
             "outlinewidth": 0,
             "ticks": ""
            },
            "colorscale": [
             [
              0,
              "#0d0887"
             ],
             [
              0.1111111111111111,
              "#46039f"
             ],
             [
              0.2222222222222222,
              "#7201a8"
             ],
             [
              0.3333333333333333,
              "#9c179e"
             ],
             [
              0.4444444444444444,
              "#bd3786"
             ],
             [
              0.5555555555555556,
              "#d8576b"
             ],
             [
              0.6666666666666666,
              "#ed7953"
             ],
             [
              0.7777777777777778,
              "#fb9f3a"
             ],
             [
              0.8888888888888888,
              "#fdca26"
             ],
             [
              1,
              "#f0f921"
             ]
            ],
            "type": "contour"
           }
          ],
          "contourcarpet": [
           {
            "colorbar": {
             "outlinewidth": 0,
             "ticks": ""
            },
            "type": "contourcarpet"
           }
          ],
          "heatmap": [
           {
            "colorbar": {
             "outlinewidth": 0,
             "ticks": ""
            },
            "colorscale": [
             [
              0,
              "#0d0887"
             ],
             [
              0.1111111111111111,
              "#46039f"
             ],
             [
              0.2222222222222222,
              "#7201a8"
             ],
             [
              0.3333333333333333,
              "#9c179e"
             ],
             [
              0.4444444444444444,
              "#bd3786"
             ],
             [
              0.5555555555555556,
              "#d8576b"
             ],
             [
              0.6666666666666666,
              "#ed7953"
             ],
             [
              0.7777777777777778,
              "#fb9f3a"
             ],
             [
              0.8888888888888888,
              "#fdca26"
             ],
             [
              1,
              "#f0f921"
             ]
            ],
            "type": "heatmap"
           }
          ],
          "histogram": [
           {
            "marker": {
             "pattern": {
              "fillmode": "overlay",
              "size": 10,
              "solidity": 0.2
             }
            },
            "type": "histogram"
           }
          ],
          "histogram2d": [
           {
            "colorbar": {
             "outlinewidth": 0,
             "ticks": ""
            },
            "colorscale": [
             [
              0,
              "#0d0887"
             ],
             [
              0.1111111111111111,
              "#46039f"
             ],
             [
              0.2222222222222222,
              "#7201a8"
             ],
             [
              0.3333333333333333,
              "#9c179e"
             ],
             [
              0.4444444444444444,
              "#bd3786"
             ],
             [
              0.5555555555555556,
              "#d8576b"
             ],
             [
              0.6666666666666666,
              "#ed7953"
             ],
             [
              0.7777777777777778,
              "#fb9f3a"
             ],
             [
              0.8888888888888888,
              "#fdca26"
             ],
             [
              1,
              "#f0f921"
             ]
            ],
            "type": "histogram2d"
           }
          ],
          "histogram2dcontour": [
           {
            "colorbar": {
             "outlinewidth": 0,
             "ticks": ""
            },
            "colorscale": [
             [
              0,
              "#0d0887"
             ],
             [
              0.1111111111111111,
              "#46039f"
             ],
             [
              0.2222222222222222,
              "#7201a8"
             ],
             [
              0.3333333333333333,
              "#9c179e"
             ],
             [
              0.4444444444444444,
              "#bd3786"
             ],
             [
              0.5555555555555556,
              "#d8576b"
             ],
             [
              0.6666666666666666,
              "#ed7953"
             ],
             [
              0.7777777777777778,
              "#fb9f3a"
             ],
             [
              0.8888888888888888,
              "#fdca26"
             ],
             [
              1,
              "#f0f921"
             ]
            ],
            "type": "histogram2dcontour"
           }
          ],
          "mesh3d": [
           {
            "colorbar": {
             "outlinewidth": 0,
             "ticks": ""
            },
            "type": "mesh3d"
           }
          ],
          "parcoords": [
           {
            "line": {
             "colorbar": {
              "outlinewidth": 0,
              "ticks": ""
             }
            },
            "type": "parcoords"
           }
          ],
          "pie": [
           {
            "automargin": true,
            "type": "pie"
           }
          ],
          "scatter": [
           {
            "fillpattern": {
             "fillmode": "overlay",
             "size": 10,
             "solidity": 0.2
            },
            "type": "scatter"
           }
          ],
          "scatter3d": [
           {
            "line": {
             "colorbar": {
              "outlinewidth": 0,
              "ticks": ""
             }
            },
            "marker": {
             "colorbar": {
              "outlinewidth": 0,
              "ticks": ""
             }
            },
            "type": "scatter3d"
           }
          ],
          "scattercarpet": [
           {
            "marker": {
             "colorbar": {
              "outlinewidth": 0,
              "ticks": ""
             }
            },
            "type": "scattercarpet"
           }
          ],
          "scattergeo": [
           {
            "marker": {
             "colorbar": {
              "outlinewidth": 0,
              "ticks": ""
             }
            },
            "type": "scattergeo"
           }
          ],
          "scattergl": [
           {
            "marker": {
             "colorbar": {
              "outlinewidth": 0,
              "ticks": ""
             }
            },
            "type": "scattergl"
           }
          ],
          "scattermap": [
           {
            "marker": {
             "colorbar": {
              "outlinewidth": 0,
              "ticks": ""
             }
            },
            "type": "scattermap"
           }
          ],
          "scattermapbox": [
           {
            "marker": {
             "colorbar": {
              "outlinewidth": 0,
              "ticks": ""
             }
            },
            "type": "scattermapbox"
           }
          ],
          "scatterpolar": [
           {
            "marker": {
             "colorbar": {
              "outlinewidth": 0,
              "ticks": ""
             }
            },
            "type": "scatterpolar"
           }
          ],
          "scatterpolargl": [
           {
            "marker": {
             "colorbar": {
              "outlinewidth": 0,
              "ticks": ""
             }
            },
            "type": "scatterpolargl"
           }
          ],
          "scatterternary": [
           {
            "marker": {
             "colorbar": {
              "outlinewidth": 0,
              "ticks": ""
             }
            },
            "type": "scatterternary"
           }
          ],
          "surface": [
           {
            "colorbar": {
             "outlinewidth": 0,
             "ticks": ""
            },
            "colorscale": [
             [
              0,
              "#0d0887"
             ],
             [
              0.1111111111111111,
              "#46039f"
             ],
             [
              0.2222222222222222,
              "#7201a8"
             ],
             [
              0.3333333333333333,
              "#9c179e"
             ],
             [
              0.4444444444444444,
              "#bd3786"
             ],
             [
              0.5555555555555556,
              "#d8576b"
             ],
             [
              0.6666666666666666,
              "#ed7953"
             ],
             [
              0.7777777777777778,
              "#fb9f3a"
             ],
             [
              0.8888888888888888,
              "#fdca26"
             ],
             [
              1,
              "#f0f921"
             ]
            ],
            "type": "surface"
           }
          ],
          "table": [
           {
            "cells": {
             "fill": {
              "color": "#EBF0F8"
             },
             "line": {
              "color": "white"
             }
            },
            "header": {
             "fill": {
              "color": "#C8D4E3"
             },
             "line": {
              "color": "white"
             }
            },
            "type": "table"
           }
          ]
         },
         "layout": {
          "annotationdefaults": {
           "arrowcolor": "#2a3f5f",
           "arrowhead": 0,
           "arrowwidth": 1
          },
          "autotypenumbers": "strict",
          "coloraxis": {
           "colorbar": {
            "outlinewidth": 0,
            "ticks": ""
           }
          },
          "colorscale": {
           "diverging": [
            [
             0,
             "#8e0152"
            ],
            [
             0.1,
             "#c51b7d"
            ],
            [
             0.2,
             "#de77ae"
            ],
            [
             0.3,
             "#f1b6da"
            ],
            [
             0.4,
             "#fde0ef"
            ],
            [
             0.5,
             "#f7f7f7"
            ],
            [
             0.6,
             "#e6f5d0"
            ],
            [
             0.7,
             "#b8e186"
            ],
            [
             0.8,
             "#7fbc41"
            ],
            [
             0.9,
             "#4d9221"
            ],
            [
             1,
             "#276419"
            ]
           ],
           "sequential": [
            [
             0,
             "#0d0887"
            ],
            [
             0.1111111111111111,
             "#46039f"
            ],
            [
             0.2222222222222222,
             "#7201a8"
            ],
            [
             0.3333333333333333,
             "#9c179e"
            ],
            [
             0.4444444444444444,
             "#bd3786"
            ],
            [
             0.5555555555555556,
             "#d8576b"
            ],
            [
             0.6666666666666666,
             "#ed7953"
            ],
            [
             0.7777777777777778,
             "#fb9f3a"
            ],
            [
             0.8888888888888888,
             "#fdca26"
            ],
            [
             1,
             "#f0f921"
            ]
           ],
           "sequentialminus": [
            [
             0,
             "#0d0887"
            ],
            [
             0.1111111111111111,
             "#46039f"
            ],
            [
             0.2222222222222222,
             "#7201a8"
            ],
            [
             0.3333333333333333,
             "#9c179e"
            ],
            [
             0.4444444444444444,
             "#bd3786"
            ],
            [
             0.5555555555555556,
             "#d8576b"
            ],
            [
             0.6666666666666666,
             "#ed7953"
            ],
            [
             0.7777777777777778,
             "#fb9f3a"
            ],
            [
             0.8888888888888888,
             "#fdca26"
            ],
            [
             1,
             "#f0f921"
            ]
           ]
          },
          "colorway": [
           "#636efa",
           "#EF553B",
           "#00cc96",
           "#ab63fa",
           "#FFA15A",
           "#19d3f3",
           "#FF6692",
           "#B6E880",
           "#FF97FF",
           "#FECB52"
          ],
          "font": {
           "color": "#2a3f5f"
          },
          "geo": {
           "bgcolor": "white",
           "lakecolor": "white",
           "landcolor": "#E5ECF6",
           "showlakes": true,
           "showland": true,
           "subunitcolor": "white"
          },
          "hoverlabel": {
           "align": "left"
          },
          "hovermode": "closest",
          "mapbox": {
           "style": "light"
          },
          "paper_bgcolor": "white",
          "plot_bgcolor": "#E5ECF6",
          "polar": {
           "angularaxis": {
            "gridcolor": "white",
            "linecolor": "white",
            "ticks": ""
           },
           "bgcolor": "#E5ECF6",
           "radialaxis": {
            "gridcolor": "white",
            "linecolor": "white",
            "ticks": ""
           }
          },
          "scene": {
           "xaxis": {
            "backgroundcolor": "#E5ECF6",
            "gridcolor": "white",
            "gridwidth": 2,
            "linecolor": "white",
            "showbackground": true,
            "ticks": "",
            "zerolinecolor": "white"
           },
           "yaxis": {
            "backgroundcolor": "#E5ECF6",
            "gridcolor": "white",
            "gridwidth": 2,
            "linecolor": "white",
            "showbackground": true,
            "ticks": "",
            "zerolinecolor": "white"
           },
           "zaxis": {
            "backgroundcolor": "#E5ECF6",
            "gridcolor": "white",
            "gridwidth": 2,
            "linecolor": "white",
            "showbackground": true,
            "ticks": "",
            "zerolinecolor": "white"
           }
          },
          "shapedefaults": {
           "line": {
            "color": "#2a3f5f"
           }
          },
          "ternary": {
           "aaxis": {
            "gridcolor": "white",
            "linecolor": "white",
            "ticks": ""
           },
           "baxis": {
            "gridcolor": "white",
            "linecolor": "white",
            "ticks": ""
           },
           "bgcolor": "#E5ECF6",
           "caxis": {
            "gridcolor": "white",
            "linecolor": "white",
            "ticks": ""
           }
          },
          "title": {
           "x": 0.05
          },
          "xaxis": {
           "automargin": true,
           "gridcolor": "white",
           "linecolor": "white",
           "ticks": "",
           "title": {
            "standoff": 15
           },
           "zerolinecolor": "white",
           "zerolinewidth": 2
          },
          "yaxis": {
           "automargin": true,
           "gridcolor": "white",
           "linecolor": "white",
           "ticks": "",
           "title": {
            "standoff": 15
           },
           "zerolinecolor": "white",
           "zerolinewidth": 2
          }
         }
        },
        "title": {
         "text": "Kenya Food Security Indicators - Turkana County",
         "x": 0.5
        },
        "xaxis": {
         "anchor": "y",
         "domain": [
          0,
          0.94
         ]
        },
        "xaxis2": {
         "anchor": "y2",
         "domain": [
          0,
          0.94
         ]
        },
        "xaxis3": {
         "anchor": "y4",
         "domain": [
          0,
          0.94
         ]
        },
        "xaxis4": {
         "anchor": "y5",
         "domain": [
          0,
          0.94
         ]
        },
        "yaxis": {
         "anchor": "x",
         "domain": [
          0.81,
          1
         ]
        },
        "yaxis2": {
         "anchor": "x2",
         "domain": [
          0.54,
          0.73
         ]
        },
        "yaxis3": {
         "anchor": "x2",
         "overlaying": "y2",
         "side": "right"
        },
        "yaxis4": {
         "anchor": "x3",
         "domain": [
          0.27,
          0.46
         ]
        },
        "yaxis5": {
         "anchor": "x4",
         "domain": [
          0,
          0.19
         ]
        },
        "yaxis6": {
         "anchor": "x4",
         "overlaying": "y5",
         "side": "right"
        }
       }
      },
      "text/html": [
       "<div>            <script src=\"https://cdnjs.cloudflare.com/ajax/libs/mathjax/2.7.5/MathJax.js?config=TeX-AMS-MML_SVG\"></script><script type=\"text/javascript\">if (window.MathJax && window.MathJax.Hub && window.MathJax.Hub.Config) {window.MathJax.Hub.Config({SVG: {font: \"STIX-Web\"}});}</script>                <script type=\"text/javascript\">window.PlotlyConfig = {MathJaxConfig: 'local'};</script>\n",
       "        <script charset=\"utf-8\" src=\"https://cdn.plot.ly/plotly-3.0.1.min.js\" integrity=\"sha256-oy6Be7Eh6eiQFs5M7oXuPxxm9qbJXEtTpfSI93dW16Q=\" crossorigin=\"anonymous\"></script>                <div id=\"4abd1dc6-9a00-429e-b034-2ff2cdd7a16c\" class=\"plotly-graph-div\" style=\"height:800px; width:100%;\"></div>            <script type=\"text/javascript\">                window.PLOTLYENV=window.PLOTLYENV || {};                                if (document.getElementById(\"4abd1dc6-9a00-429e-b034-2ff2cdd7a16c\")) {                    Plotly.newPlot(                        \"4abd1dc6-9a00-429e-b034-2ff2cdd7a16c\",                        [{\"line\":{\"color\":\"red\",\"width\":3},\"mode\":\"lines+markers\",\"name\":\"IPC Phase\",\"x\":[\"2023-01-01T00:00:00.000000000\",\"2023-02-01T00:00:00.000000000\",\"2023-03-01T00:00:00.000000000\",\"2023-04-01T00:00:00.000000000\",\"2023-05-01T00:00:00.000000000\",\"2023-06-01T00:00:00.000000000\",\"2023-07-01T00:00:00.000000000\",\"2023-08-01T00:00:00.000000000\",\"2023-09-01T00:00:00.000000000\",\"2023-10-01T00:00:00.000000000\",\"2023-11-01T00:00:00.000000000\",\"2023-12-01T00:00:00.000000000\",\"2024-01-01T00:00:00.000000000\",\"2024-02-01T00:00:00.000000000\",\"2024-03-01T00:00:00.000000000\",\"2024-04-01T00:00:00.000000000\",\"2024-05-01T00:00:00.000000000\",\"2024-06-01T00:00:00.000000000\",\"2024-07-01T00:00:00.000000000\",\"2024-08-01T00:00:00.000000000\",\"2024-09-01T00:00:00.000000000\",\"2024-10-01T00:00:00.000000000\",\"2024-11-01T00:00:00.000000000\",\"2024-12-01T00:00:00.000000000\"],\"y\":{\"dtype\":\"i1\",\"bdata\":\"AgMDAgIDBAQEAwMCAwMDAgIDBAQEAwMC\"},\"type\":\"scatter\",\"xaxis\":\"x\",\"yaxis\":\"y\"},{\"line\":{\"color\":\"blue\"},\"mode\":\"lines\",\"name\":\"Rainfall (mm)\",\"x\":[\"2023-01-01T00:00:00.000000000\",\"2023-02-01T00:00:00.000000000\",\"2023-03-01T00:00:00.000000000\",\"2023-04-01T00:00:00.000000000\",\"2023-05-01T00:00:00.000000000\",\"2023-06-01T00:00:00.000000000\",\"2023-07-01T00:00:00.000000000\",\"2023-08-01T00:00:00.000000000\",\"2023-09-01T00:00:00.000000000\",\"2023-10-01T00:00:00.000000000\",\"2023-11-01T00:00:00.000000000\",\"2023-12-01T00:00:00.000000000\",\"2024-01-01T00:00:00.000000000\",\"2024-02-01T00:00:00.000000000\",\"2024-03-01T00:00:00.000000000\",\"2024-04-01T00:00:00.000000000\",\"2024-05-01T00:00:00.000000000\",\"2024-06-01T00:00:00.000000000\",\"2024-07-01T00:00:00.000000000\",\"2024-08-01T00:00:00.000000000\",\"2024-09-01T00:00:00.000000000\",\"2024-10-01T00:00:00.000000000\",\"2024-11-01T00:00:00.000000000\",\"2024-12-01T00:00:00.000000000\"],\"y\":{\"dtype\":\"i1\",\"bdata\":\"LSAcQU4ZEg8WIzdEKiYeOkgcFBAYJjRB\"},\"type\":\"scatter\",\"xaxis\":\"x2\",\"yaxis\":\"y2\"},{\"line\":{\"color\":\"orange\"},\"mode\":\"lines\",\"name\":\"Rainfall Anomaly (%)\",\"x\":[\"2023-01-01T00:00:00.000000000\",\"2023-02-01T00:00:00.000000000\",\"2023-03-01T00:00:00.000000000\",\"2023-04-01T00:00:00.000000000\",\"2023-05-01T00:00:00.000000000\",\"2023-06-01T00:00:00.000000000\",\"2023-07-01T00:00:00.000000000\",\"2023-08-01T00:00:00.000000000\",\"2023-09-01T00:00:00.000000000\",\"2023-10-01T00:00:00.000000000\",\"2023-11-01T00:00:00.000000000\",\"2023-12-01T00:00:00.000000000\",\"2024-01-01T00:00:00.000000000\",\"2024-02-01T00:00:00.000000000\",\"2024-03-01T00:00:00.000000000\",\"2024-04-01T00:00:00.000000000\",\"2024-05-01T00:00:00.000000000\",\"2024-06-01T00:00:00.000000000\",\"2024-07-01T00:00:00.000000000\",\"2024-08-01T00:00:00.000000000\",\"2024-09-01T00:00:00.000000000\",\"2024-10-01T00:00:00.000000000\",\"2024-11-01T00:00:00.000000000\",\"2024-12-01T00:00:00.000000000\"],\"y\":{\"dtype\":\"f8\",\"bdata\":\"mpmZmZmZLsAAAAAAAEBDwAAAAAAAAEbAMzMzMzMzMkCamZmZmZlBQAAAAAAAAEnAAAAAAAAAUMAAAAAAAIBRwAAAAAAAAEzAAAAAAAAAPsAAAAAAAAAkQAAAAAAAAEJAmpmZmZkZNcDNzMzMzEw7wAAAAAAAAETAAAAAAAAAFkAAAAAAAAA5QAAAAAAAAEbAAAAAAAAATsAAAAAAAABRwAAAAAAAAErAAAAAAAAAOMAAAAAAAAAQQAAAAAAAAD5A\"},\"type\":\"scatter\",\"xaxis\":\"x2\",\"yaxis\":\"y3\"},{\"line\":{\"color\":\"green\"},\"mode\":\"lines\",\"name\":\"Food Price Index\",\"x\":[\"2023-01-01T00:00:00.000000000\",\"2023-02-01T00:00:00.000000000\",\"2023-03-01T00:00:00.000000000\",\"2023-04-01T00:00:00.000000000\",\"2023-05-01T00:00:00.000000000\",\"2023-06-01T00:00:00.000000000\",\"2023-07-01T00:00:00.000000000\",\"2023-08-01T00:00:00.000000000\",\"2023-09-01T00:00:00.000000000\",\"2023-10-01T00:00:00.000000000\",\"2023-11-01T00:00:00.000000000\",\"2023-12-01T00:00:00.000000000\",\"2024-01-01T00:00:00.000000000\",\"2024-02-01T00:00:00.000000000\",\"2024-03-01T00:00:00.000000000\",\"2024-04-01T00:00:00.000000000\",\"2024-05-01T00:00:00.000000000\",\"2024-06-01T00:00:00.000000000\",\"2024-07-01T00:00:00.000000000\",\"2024-08-01T00:00:00.000000000\",\"2024-09-01T00:00:00.000000000\",\"2024-10-01T00:00:00.000000000\",\"2024-11-01T00:00:00.000000000\",\"2024-12-01T00:00:00.000000000\"],\"y\":{\"dtype\":\"i1\",\"bdata\":\"VVpfWFJiaW5sZl9YXGBkW1ViaGxqZF1W\"},\"type\":\"scatter\",\"xaxis\":\"x3\",\"yaxis\":\"y4\"},{\"marker\":{\"color\":\"darkred\"},\"name\":\"Conflict Events\",\"opacity\":0.7,\"x\":[\"2023-01-01T00:00:00.000000000\",\"2023-02-01T00:00:00.000000000\",\"2023-03-01T00:00:00.000000000\",\"2023-04-01T00:00:00.000000000\",\"2023-05-01T00:00:00.000000000\",\"2023-06-01T00:00:00.000000000\",\"2023-07-01T00:00:00.000000000\",\"2023-08-01T00:00:00.000000000\",\"2023-09-01T00:00:00.000000000\",\"2023-10-01T00:00:00.000000000\",\"2023-11-01T00:00:00.000000000\",\"2023-12-01T00:00:00.000000000\",\"2024-01-01T00:00:00.000000000\",\"2024-02-01T00:00:00.000000000\",\"2024-03-01T00:00:00.000000000\",\"2024-04-01T00:00:00.000000000\",\"2024-05-01T00:00:00.000000000\",\"2024-06-01T00:00:00.000000000\",\"2024-07-01T00:00:00.000000000\",\"2024-08-01T00:00:00.000000000\",\"2024-09-01T00:00:00.000000000\",\"2024-10-01T00:00:00.000000000\",\"2024-11-01T00:00:00.000000000\",\"2024-12-01T00:00:00.000000000\"],\"y\":{\"dtype\":\"i1\",\"bdata\":\"AQIBAAECAwIBAgEAAgEDAQACBAMCAQIB\"},\"type\":\"bar\",\"xaxis\":\"x4\",\"yaxis\":\"y5\"},{\"line\":{\"color\":\"black\"},\"mode\":\"lines\",\"name\":\"Fatalities\",\"x\":[\"2023-01-01T00:00:00.000000000\",\"2023-02-01T00:00:00.000000000\",\"2023-03-01T00:00:00.000000000\",\"2023-04-01T00:00:00.000000000\",\"2023-05-01T00:00:00.000000000\",\"2023-06-01T00:00:00.000000000\",\"2023-07-01T00:00:00.000000000\",\"2023-08-01T00:00:00.000000000\",\"2023-09-01T00:00:00.000000000\",\"2023-10-01T00:00:00.000000000\",\"2023-11-01T00:00:00.000000000\",\"2023-12-01T00:00:00.000000000\",\"2024-01-01T00:00:00.000000000\",\"2024-02-01T00:00:00.000000000\",\"2024-03-01T00:00:00.000000000\",\"2024-04-01T00:00:00.000000000\",\"2024-05-01T00:00:00.000000000\",\"2024-06-01T00:00:00.000000000\",\"2024-07-01T00:00:00.000000000\",\"2024-08-01T00:00:00.000000000\",\"2024-09-01T00:00:00.000000000\",\"2024-10-01T00:00:00.000000000\",\"2024-11-01T00:00:00.000000000\",\"2024-12-01T00:00:00.000000000\"],\"y\":{\"dtype\":\"i1\",\"bdata\":\"AgUBAAMECAYCBQEABQIIAQAEDAcDAgQB\"},\"type\":\"scatter\",\"xaxis\":\"x4\",\"yaxis\":\"y6\"}],                        {\"template\":{\"data\":{\"histogram2dcontour\":[{\"type\":\"histogram2dcontour\",\"colorbar\":{\"outlinewidth\":0,\"ticks\":\"\"},\"colorscale\":[[0.0,\"#0d0887\"],[0.1111111111111111,\"#46039f\"],[0.2222222222222222,\"#7201a8\"],[0.3333333333333333,\"#9c179e\"],[0.4444444444444444,\"#bd3786\"],[0.5555555555555556,\"#d8576b\"],[0.6666666666666666,\"#ed7953\"],[0.7777777777777778,\"#fb9f3a\"],[0.8888888888888888,\"#fdca26\"],[1.0,\"#f0f921\"]]}],\"choropleth\":[{\"type\":\"choropleth\",\"colorbar\":{\"outlinewidth\":0,\"ticks\":\"\"}}],\"histogram2d\":[{\"type\":\"histogram2d\",\"colorbar\":{\"outlinewidth\":0,\"ticks\":\"\"},\"colorscale\":[[0.0,\"#0d0887\"],[0.1111111111111111,\"#46039f\"],[0.2222222222222222,\"#7201a8\"],[0.3333333333333333,\"#9c179e\"],[0.4444444444444444,\"#bd3786\"],[0.5555555555555556,\"#d8576b\"],[0.6666666666666666,\"#ed7953\"],[0.7777777777777778,\"#fb9f3a\"],[0.8888888888888888,\"#fdca26\"],[1.0,\"#f0f921\"]]}],\"heatmap\":[{\"type\":\"heatmap\",\"colorbar\":{\"outlinewidth\":0,\"ticks\":\"\"},\"colorscale\":[[0.0,\"#0d0887\"],[0.1111111111111111,\"#46039f\"],[0.2222222222222222,\"#7201a8\"],[0.3333333333333333,\"#9c179e\"],[0.4444444444444444,\"#bd3786\"],[0.5555555555555556,\"#d8576b\"],[0.6666666666666666,\"#ed7953\"],[0.7777777777777778,\"#fb9f3a\"],[0.8888888888888888,\"#fdca26\"],[1.0,\"#f0f921\"]]}],\"contourcarpet\":[{\"type\":\"contourcarpet\",\"colorbar\":{\"outlinewidth\":0,\"ticks\":\"\"}}],\"contour\":[{\"type\":\"contour\",\"colorbar\":{\"outlinewidth\":0,\"ticks\":\"\"},\"colorscale\":[[0.0,\"#0d0887\"],[0.1111111111111111,\"#46039f\"],[0.2222222222222222,\"#7201a8\"],[0.3333333333333333,\"#9c179e\"],[0.4444444444444444,\"#bd3786\"],[0.5555555555555556,\"#d8576b\"],[0.6666666666666666,\"#ed7953\"],[0.7777777777777778,\"#fb9f3a\"],[0.8888888888888888,\"#fdca26\"],[1.0,\"#f0f921\"]]}],\"surface\":[{\"type\":\"surface\",\"colorbar\":{\"outlinewidth\":0,\"ticks\":\"\"},\"colorscale\":[[0.0,\"#0d0887\"],[0.1111111111111111,\"#46039f\"],[0.2222222222222222,\"#7201a8\"],[0.3333333333333333,\"#9c179e\"],[0.4444444444444444,\"#bd3786\"],[0.5555555555555556,\"#d8576b\"],[0.6666666666666666,\"#ed7953\"],[0.7777777777777778,\"#fb9f3a\"],[0.8888888888888888,\"#fdca26\"],[1.0,\"#f0f921\"]]}],\"mesh3d\":[{\"type\":\"mesh3d\",\"colorbar\":{\"outlinewidth\":0,\"ticks\":\"\"}}],\"scatter\":[{\"fillpattern\":{\"fillmode\":\"overlay\",\"size\":10,\"solidity\":0.2},\"type\":\"scatter\"}],\"parcoords\":[{\"type\":\"parcoords\",\"line\":{\"colorbar\":{\"outlinewidth\":0,\"ticks\":\"\"}}}],\"scatterpolargl\":[{\"type\":\"scatterpolargl\",\"marker\":{\"colorbar\":{\"outlinewidth\":0,\"ticks\":\"\"}}}],\"bar\":[{\"error_x\":{\"color\":\"#2a3f5f\"},\"error_y\":{\"color\":\"#2a3f5f\"},\"marker\":{\"line\":{\"color\":\"#E5ECF6\",\"width\":0.5},\"pattern\":{\"fillmode\":\"overlay\",\"size\":10,\"solidity\":0.2}},\"type\":\"bar\"}],\"scattergeo\":[{\"type\":\"scattergeo\",\"marker\":{\"colorbar\":{\"outlinewidth\":0,\"ticks\":\"\"}}}],\"scatterpolar\":[{\"type\":\"scatterpolar\",\"marker\":{\"colorbar\":{\"outlinewidth\":0,\"ticks\":\"\"}}}],\"histogram\":[{\"marker\":{\"pattern\":{\"fillmode\":\"overlay\",\"size\":10,\"solidity\":0.2}},\"type\":\"histogram\"}],\"scattergl\":[{\"type\":\"scattergl\",\"marker\":{\"colorbar\":{\"outlinewidth\":0,\"ticks\":\"\"}}}],\"scatter3d\":[{\"type\":\"scatter3d\",\"line\":{\"colorbar\":{\"outlinewidth\":0,\"ticks\":\"\"}},\"marker\":{\"colorbar\":{\"outlinewidth\":0,\"ticks\":\"\"}}}],\"scattermap\":[{\"type\":\"scattermap\",\"marker\":{\"colorbar\":{\"outlinewidth\":0,\"ticks\":\"\"}}}],\"scattermapbox\":[{\"type\":\"scattermapbox\",\"marker\":{\"colorbar\":{\"outlinewidth\":0,\"ticks\":\"\"}}}],\"scatterternary\":[{\"type\":\"scatterternary\",\"marker\":{\"colorbar\":{\"outlinewidth\":0,\"ticks\":\"\"}}}],\"scattercarpet\":[{\"type\":\"scattercarpet\",\"marker\":{\"colorbar\":{\"outlinewidth\":0,\"ticks\":\"\"}}}],\"carpet\":[{\"aaxis\":{\"endlinecolor\":\"#2a3f5f\",\"gridcolor\":\"white\",\"linecolor\":\"white\",\"minorgridcolor\":\"white\",\"startlinecolor\":\"#2a3f5f\"},\"baxis\":{\"endlinecolor\":\"#2a3f5f\",\"gridcolor\":\"white\",\"linecolor\":\"white\",\"minorgridcolor\":\"white\",\"startlinecolor\":\"#2a3f5f\"},\"type\":\"carpet\"}],\"table\":[{\"cells\":{\"fill\":{\"color\":\"#EBF0F8\"},\"line\":{\"color\":\"white\"}},\"header\":{\"fill\":{\"color\":\"#C8D4E3\"},\"line\":{\"color\":\"white\"}},\"type\":\"table\"}],\"barpolar\":[{\"marker\":{\"line\":{\"color\":\"#E5ECF6\",\"width\":0.5},\"pattern\":{\"fillmode\":\"overlay\",\"size\":10,\"solidity\":0.2}},\"type\":\"barpolar\"}],\"pie\":[{\"automargin\":true,\"type\":\"pie\"}]},\"layout\":{\"autotypenumbers\":\"strict\",\"colorway\":[\"#636efa\",\"#EF553B\",\"#00cc96\",\"#ab63fa\",\"#FFA15A\",\"#19d3f3\",\"#FF6692\",\"#B6E880\",\"#FF97FF\",\"#FECB52\"],\"font\":{\"color\":\"#2a3f5f\"},\"hovermode\":\"closest\",\"hoverlabel\":{\"align\":\"left\"},\"paper_bgcolor\":\"white\",\"plot_bgcolor\":\"#E5ECF6\",\"polar\":{\"bgcolor\":\"#E5ECF6\",\"angularaxis\":{\"gridcolor\":\"white\",\"linecolor\":\"white\",\"ticks\":\"\"},\"radialaxis\":{\"gridcolor\":\"white\",\"linecolor\":\"white\",\"ticks\":\"\"}},\"ternary\":{\"bgcolor\":\"#E5ECF6\",\"aaxis\":{\"gridcolor\":\"white\",\"linecolor\":\"white\",\"ticks\":\"\"},\"baxis\":{\"gridcolor\":\"white\",\"linecolor\":\"white\",\"ticks\":\"\"},\"caxis\":{\"gridcolor\":\"white\",\"linecolor\":\"white\",\"ticks\":\"\"}},\"coloraxis\":{\"colorbar\":{\"outlinewidth\":0,\"ticks\":\"\"}},\"colorscale\":{\"sequential\":[[0.0,\"#0d0887\"],[0.1111111111111111,\"#46039f\"],[0.2222222222222222,\"#7201a8\"],[0.3333333333333333,\"#9c179e\"],[0.4444444444444444,\"#bd3786\"],[0.5555555555555556,\"#d8576b\"],[0.6666666666666666,\"#ed7953\"],[0.7777777777777778,\"#fb9f3a\"],[0.8888888888888888,\"#fdca26\"],[1.0,\"#f0f921\"]],\"sequentialminus\":[[0.0,\"#0d0887\"],[0.1111111111111111,\"#46039f\"],[0.2222222222222222,\"#7201a8\"],[0.3333333333333333,\"#9c179e\"],[0.4444444444444444,\"#bd3786\"],[0.5555555555555556,\"#d8576b\"],[0.6666666666666666,\"#ed7953\"],[0.7777777777777778,\"#fb9f3a\"],[0.8888888888888888,\"#fdca26\"],[1.0,\"#f0f921\"]],\"diverging\":[[0,\"#8e0152\"],[0.1,\"#c51b7d\"],[0.2,\"#de77ae\"],[0.3,\"#f1b6da\"],[0.4,\"#fde0ef\"],[0.5,\"#f7f7f7\"],[0.6,\"#e6f5d0\"],[0.7,\"#b8e186\"],[0.8,\"#7fbc41\"],[0.9,\"#4d9221\"],[1,\"#276419\"]]},\"xaxis\":{\"gridcolor\":\"white\",\"linecolor\":\"white\",\"ticks\":\"\",\"title\":{\"standoff\":15},\"zerolinecolor\":\"white\",\"automargin\":true,\"zerolinewidth\":2},\"yaxis\":{\"gridcolor\":\"white\",\"linecolor\":\"white\",\"ticks\":\"\",\"title\":{\"standoff\":15},\"zerolinecolor\":\"white\",\"automargin\":true,\"zerolinewidth\":2},\"scene\":{\"xaxis\":{\"backgroundcolor\":\"#E5ECF6\",\"gridcolor\":\"white\",\"linecolor\":\"white\",\"showbackground\":true,\"ticks\":\"\",\"zerolinecolor\":\"white\",\"gridwidth\":2},\"yaxis\":{\"backgroundcolor\":\"#E5ECF6\",\"gridcolor\":\"white\",\"linecolor\":\"white\",\"showbackground\":true,\"ticks\":\"\",\"zerolinecolor\":\"white\",\"gridwidth\":2},\"zaxis\":{\"backgroundcolor\":\"#E5ECF6\",\"gridcolor\":\"white\",\"linecolor\":\"white\",\"showbackground\":true,\"ticks\":\"\",\"zerolinecolor\":\"white\",\"gridwidth\":2}},\"shapedefaults\":{\"line\":{\"color\":\"#2a3f5f\"}},\"annotationdefaults\":{\"arrowcolor\":\"#2a3f5f\",\"arrowhead\":0,\"arrowwidth\":1},\"geo\":{\"bgcolor\":\"white\",\"landcolor\":\"#E5ECF6\",\"subunitcolor\":\"white\",\"showland\":true,\"showlakes\":true,\"lakecolor\":\"white\"},\"title\":{\"x\":0.05},\"mapbox\":{\"style\":\"light\"}}},\"xaxis\":{\"anchor\":\"y\",\"domain\":[0.0,0.94]},\"yaxis\":{\"anchor\":\"x\",\"domain\":[0.81,1.0]},\"xaxis2\":{\"anchor\":\"y2\",\"domain\":[0.0,0.94]},\"yaxis2\":{\"anchor\":\"x2\",\"domain\":[0.54,0.73]},\"yaxis3\":{\"anchor\":\"x2\",\"overlaying\":\"y2\",\"side\":\"right\"},\"xaxis3\":{\"anchor\":\"y4\",\"domain\":[0.0,0.94]},\"yaxis4\":{\"anchor\":\"x3\",\"domain\":[0.27,0.46]},\"xaxis4\":{\"anchor\":\"y5\",\"domain\":[0.0,0.94]},\"yaxis5\":{\"anchor\":\"x4\",\"domain\":[0.0,0.19]},\"yaxis6\":{\"anchor\":\"x4\",\"overlaying\":\"y5\",\"side\":\"right\"},\"annotations\":[{\"font\":{\"size\":16},\"showarrow\":false,\"text\":\"IPC Phase Evolution\",\"x\":0.47,\"xanchor\":\"center\",\"xref\":\"paper\",\"y\":1.0,\"yanchor\":\"bottom\",\"yref\":\"paper\"},{\"font\":{\"size\":16},\"showarrow\":false,\"text\":\"Rainfall Patterns\",\"x\":0.47,\"xanchor\":\"center\",\"xref\":\"paper\",\"y\":0.73,\"yanchor\":\"bottom\",\"yref\":\"paper\"},{\"font\":{\"size\":16},\"showarrow\":false,\"text\":\"Food Price Trends\",\"x\":0.47,\"xanchor\":\"center\",\"xref\":\"paper\",\"y\":0.46,\"yanchor\":\"bottom\",\"yref\":\"paper\"},{\"font\":{\"size\":16},\"showarrow\":false,\"text\":\"Conflict Events\",\"x\":0.47,\"xanchor\":\"center\",\"xref\":\"paper\",\"y\":0.19,\"yanchor\":\"bottom\",\"yref\":\"paper\"}],\"title\":{\"text\":\"Kenya Food Security Indicators - Turkana County\",\"x\":0.5},\"height\":800,\"showlegend\":true},                        {\"responsive\": true}                    ).then(function(){\n",
       "                            \n",
       "var gd = document.getElementById('4abd1dc6-9a00-429e-b034-2ff2cdd7a16c');\n",
       "var x = new MutationObserver(function (mutations, observer) {{\n",
       "        var display = window.getComputedStyle(gd).display;\n",
       "        if (!display || display === 'none') {{\n",
       "            console.log([gd, 'removed!']);\n",
       "            Plotly.purge(gd);\n",
       "            observer.disconnect();\n",
       "        }}\n",
       "}});\n",
       "\n",
       "// Listen for the removal of the full notebook cells\n",
       "var notebookContainer = gd.closest('#notebook-container');\n",
       "if (notebookContainer) {{\n",
       "    x.observe(notebookContainer, {childList: true});\n",
       "}}\n",
       "\n",
       "// Listen for the clearing of the current output cell\n",
       "var outputEl = gd.closest('.output');\n",
       "if (outputEl) {{\n",
       "    x.observe(outputEl, {childList: true});\n",
       "}}\n",
       "\n",
       "                        })                };            </script>        </div>"
      ]
     },
     "metadata": {},
     "output_type": "display_data"
    },
    {
     "name": "stdout",
     "output_type": "stream",
     "text": [
      "📈 Time series visualization completed!\n"
     ]
    }
   ],
   "source": [
    "# Create comprehensive time series visualization\n",
    "fig = make_subplots(\n",
    "    rows=4, cols=1,\n",
    "    subplot_titles=('IPC Phase Evolution', 'Rainfall Patterns', 'Food Price Trends', 'Conflict Events'),\n",
    "    vertical_spacing=0.08,\n",
    "    specs=[[{\"secondary_y\": False}],\n",
    "           [{\"secondary_y\": True}],\n",
    "           [{\"secondary_y\": False}],\n",
    "           [{\"secondary_y\": True}]]\n",
    ")\n",
    "\n",
    "# IPC Phase\n",
    "fig.add_trace(\n",
    "    go.Scatter(x=df['date'], y=df['ipc_phase'], mode='lines+markers',\n",
    "               name='IPC Phase', line=dict(color='red', width=3)),\n",
    "    row=1, col=1\n",
    ")\n",
    "\n",
    "# Rainfall with anomaly\n",
    "fig.add_trace(\n",
    "    go.Scatter(x=df['date'], y=df['rainfall_mm'], mode='lines',\n",
    "               name='Rainfall (mm)', line=dict(color='blue')),\n",
    "    row=2, col=1\n",
    ")\n",
    "fig.add_trace(\n",
    "    go.Scatter(x=df['date'], y=df['rainfall_anomaly'], mode='lines',\n",
    "               name='Rainfall Anomaly (%)', line=dict(color='orange')),\n",
    "    row=2, col=1, secondary_y=True\n",
    ")\n",
    "\n",
    "# Food prices\n",
    "fig.add_trace(\n",
    "    go.Scatter(x=df['date'], y=df['food_price_index'], mode='lines',\n",
    "               name='Food Price Index', line=dict(color='green')),\n",
    "    row=3, col=1\n",
    ")\n",
    "\n",
    "# Conflict events with fatalities\n",
    "fig.add_trace(\n",
    "    go.Bar(x=df['date'], y=df['conflict_events'], name='Conflict Events',\n",
    "           marker_color='darkred', opacity=0.7),\n",
    "    row=4, col=1\n",
    ")\n",
    "fig.add_trace(\n",
    "    go.Scatter(x=df['date'], y=df['conflict_fatalities'], mode='lines',\n",
    "               name='Fatalities', line=dict(color='black')),\n",
    "    row=4, col=1, secondary_y=True\n",
    ")\n",
    "\n",
    "fig.update_layout(\n",
    "    title_text=\"Kenya Food Security Indicators - Turkana County\",\n",
    "    height=800,\n",
    "    title_x=0.5,\n",
    "    showlegend=True\n",
    ")\n",
    "\n",
    "fig.show()\n",
    "\n",
    "print(\"📈 Time series visualization completed!\")"
   ]
  },
  {
   "cell_type": "code",
   "execution_count": 49,
   "id": "42908f36-890a-48d0-b74d-e9454e8de46c",
   "metadata": {},
   "outputs": [
    {
     "data": {
      "image/png": "[encoded data removed]",
      "text/plain": [
       "<Figure size 1200x1000 with 2 Axes>"
      ]
     },
     "metadata": {},
     "output_type": "display_data"
    },
    {
     "name": "stdout",
     "output_type": "stream",
     "text": [
      "\n",
      "🎯 KEY CORRELATIONS WITH IPC PHASE\n",
      "==================================================\n",
      "food_price_index          ↗️ 0.929\n",
      "market_access             ↘️ -0.926\n",
      "ndvi_anomaly              ↘️ -0.917\n",
      "drought_index             ↘️ -0.899\n",
      "rainfall_mm               ↘️ -0.886\n",
      "rainfall_anomaly          ↘️ -0.878\n",
      "temperature_avg           ↗️ 0.870\n",
      "combined_risk_score       ↗️ 0.839\n",
      "conflict_events           ↗️ 0.716\n",
      "conflict_fatalities       ↗️ 0.663\n"
     ]
    }
   ],
   "source": [
    "# Select numeric columns for correlation analysis\n",
    "numeric_cols = ['rainfall_mm', 'rainfall_anomaly', 'temperature_avg', 'food_price_index',\n",
    "                'ipc_phase', 'conflict_events', 'conflict_fatalities', 'ndvi_anomaly',\n",
    "                'market_access', 'drought_index', 'combined_risk_score']\n",
    "\n",
    "correlation_matrix = df[numeric_cols].corr()\n",
    "\n",
    "# Create correlation heatmap\n",
    "plt.figure(figsize=(12, 10))\n",
    "mask = np.triu(np.ones_like(correlation_matrix, dtype=bool))\n",
    "sns.heatmap(correlation_matrix, mask=mask, annot=True, cmap='RdYlBu_r',\n",
    "            center=0, square=True, cbar_kws={\"shrink\": .8})\n",
    "plt.title('Feature Correlation Matrix - Food Security Indicators')\n",
    "plt.tight_layout()\n",
    "plt.show()\n",
    "\n",
    "# Key correlations with IPC phase\n",
    "ipc_correlations = correlation_matrix['ipc_phase'].sort_values(key=abs, ascending=False)\n",
    "print(\"\\n🎯 KEY CORRELATIONS WITH IPC PHASE\")\n",
    "print(\"=\" * 50)\n",
    "for feature, corr in ipc_correlations.items():\n",
    "    if feature != 'ipc_phase':\n",
    "        direction = \"↗️\" if corr > 0 else \"↘️\"\n",
    "        print(f\"{feature:<25} {direction} {corr:.3f}\")"
   ]
  },
  {
   "cell_type": "code",
   "execution_count": 50,
   "id": "27827552-b379-436b-b5a9-ec245644be86",
   "metadata": {},
   "outputs": [
    {
     "name": "stdout",
     "output_type": "stream",
     "text": [
      "🌦️ SEASONAL PATTERNS\n",
      "==================================================\n",
      "                   rainfall_mm  food_price_index  ipc_phase  conflict_events\n",
      "season      month                                                           \n",
      "Dry         1             43.5              88.5        2.5                3\n",
      "            2             35.0              93.0        3.0                3\n",
      "            6             26.5              98.0        3.0                4\n",
      "            7             19.0             104.5        4.0                7\n",
      "            8             15.5             109.0        4.0                5\n",
      "            12            66.5              87.0        2.0                1\n",
      "Long_Rains  3             29.0              97.5        3.0                4\n",
      "            4             61.5              89.5        2.0                1\n",
      "            5             75.0              83.5        2.0                1\n",
      "Short_Rains 9             23.0             107.0        4.0                3\n",
      "            10            36.5             101.0        3.0                3\n",
      "            11            53.5              94.0        3.0                3\n"
     ]
    },
    {
     "data": {
      "image/png": "[encoded data removed]",
      "text/plain": [
       "<Figure size 1500x1000 with 4 Axes>"
      ]
     },
     "metadata": {},
     "output_type": "display_data"
    }
   ],
   "source": [
    "# Seasonal analysis\n",
    "seasonal_analysis = df.groupby(['season', 'month']).agg({\n",
    "    'rainfall_mm': 'mean',\n",
    "    'food_price_index': 'mean',\n",
    "    'ipc_phase': 'mean',\n",
    "    'conflict_events': 'sum'\n",
    "}).round(2)\n",
    "\n",
    "print(\"🌦️ SEASONAL PATTERNS\")\n",
    "print(\"=\" * 50)\n",
    "print(seasonal_analysis)\n",
    "\n",
    "# Create seasonal visualization\n",
    "fig, axes = plt.subplots(2, 2, figsize=(15, 10))\n",
    "\n",
    "# Rainfall by season\n",
    "sns.boxplot(data=df, x='season', y='rainfall_mm', ax=axes[0,0])\n",
    "axes[0,0].set_title('Rainfall Distribution by Season')\n",
    "axes[0,0].tick_params(axis='x', rotation=45)\n",
    "\n",
    "# IPC phase by season\n",
    "sns.boxplot(data=df, x='season', y='ipc_phase', ax=axes[0,1])\n",
    "axes[0,1].set_title('IPC Phase Distribution by Season')\n",
    "axes[0,1].tick_params(axis='x', rotation=45)\n",
    "\n",
    "# Food prices by season\n",
    "sns.boxplot(data=df, x='season', y='food_price_index', ax=axes[1,0])\n",
    "axes[1,0].set_title('Food Price Index by Season')\n",
    "axes[1,0].tick_params(axis='x', rotation=45)\n",
    "\n",
    "# Conflict events by season\n",
    "sns.boxplot(data=df, x='season', y='conflict_events', ax=axes[1,1])\n",
    "axes[1,1].set_title('Conflict Events by Season')\n",
    "axes[1,1].tick_params(axis='x', rotation=45)\n",
    "\n",
    "plt.tight_layout()\n",
    "plt.show()"
   ]
  },
  {
   "cell_type": "code",
   "execution_count": 51,
   "id": "707dfe8c-c486-40ac-9616-f108a723d426",
   "metadata": {},
   "outputs": [
    {
     "name": "stdout",
     "output_type": "stream",
     "text": [
      "🤖 MODEL TRAINING\n",
      "==================================================\n",
      "Training set size: 16 samples\n",
      "Test set size: 5 samples\n",
      "Features used: 15\n",
      "✅ Models trained successfully!\n"
     ]
    }
   ],
   "source": [
    "# Prepare data for modeling\n",
    "# Remove rows with NaN values (due to lag features)\n",
    "model_df = df.dropna().copy()\n",
    "\n",
    "# Define features for prediction\n",
    "feature_columns = [\n",
    "    'rainfall_mm', 'rainfall_anomaly', 'temperature_avg', 'food_price_index',\n",
    "    'conflict_events', 'ndvi_anomaly', 'market_access', 'drought_index',\n",
    "    'rainfall_lag1', 'food_price_lag1', 'conflict_lag1',\n",
    "    'rainfall_ma3', 'food_price_ma3', 'month', 'quarter'\n",
    "]\n",
    "\n",
    "X = model_df[feature_columns]\n",
    "y_classification = model_df['ipc_phase']\n",
    "y_regression = model_df['combined_risk_score']\n",
    "\n",
    "# Split data for training and testing\n",
    "X_train, X_test, y_class_train, y_class_test = train_test_split(\n",
    "    X, y_classification, test_size=0.2, random_state=42, stratify=y_classification\n",
    ")\n",
    "\n",
    "_, _, y_reg_train, y_reg_test = train_test_split(\n",
    "    X, y_regression, test_size=0.2, random_state=42\n",
    ")\n",
    "\n",
    "# Scale features\n",
    "scaler = StandardScaler()\n",
    "X_train_scaled = scaler.fit_transform(X_train)\n",
    "X_test_scaled = scaler.transform(X_test)\n",
    "\n",
    "print(\"🤖 MODEL TRAINING\")\n",
    "print(\"=\" * 50)\n",
    "print(f\"Training set size: {X_train.shape[0]} samples\")\n",
    "print(f\"Test set size: {X_test.shape[0]} samples\")\n",
    "print(f\"Features used: {len(feature_columns)}\")\n",
    "\n",
    "# Train Classification Model (IPC Phase Prediction)\n",
    "rf_classifier = RandomForestClassifier(n_estimators=100, random_state=42, max_depth=10)\n",
    "rf_classifier.fit(X_train, y_class_train)\n",
    "\n",
    "# Train Regression Model (Risk Score Prediction)\n",
    "rf_regressor = RandomForestRegressor(n_estimators=100, random_state=42, max_depth=10)\n",
    "rf_regressor.fit(X_train, y_reg_train)\n",
    "\n",
    "print(\"✅ Models trained successfully!\")\n"
   ]
  },
  {
   "cell_type": "code",
   "execution_count": 52,
   "id": "b450fca1-208a-4ce2-a85d-f5c140145d19",
   "metadata": {},
   "outputs": [
    {
     "name": "stdout",
     "output_type": "stream",
     "text": [
      "🎯 CLASSIFICATION MODEL PERFORMANCE\n",
      "==================================================\n",
      "Accuracy: 0.800\n",
      "\n",
      "Classification Report:\n",
      "              precision    recall  f1-score   support\n",
      "\n",
      "           2       0.00      0.00      0.00         1\n",
      "           3       0.67      1.00      0.80         2\n",
      "           4       1.00      1.00      1.00         2\n",
      "\n",
      "    accuracy                           0.80         5\n",
      "   macro avg       0.56      0.67      0.60         5\n",
      "weighted avg       0.67      0.80      0.72         5\n",
      "\n"
     ]
    },
    {
     "data": {
      "image/png": "[encoded data removed]",
      "text/plain": [
       "<Figure size 800x600 with 2 Axes>"
      ]
     },
     "metadata": {},
     "output_type": "display_data"
    },
    {
     "name": "stdout",
     "output_type": "stream",
     "text": [
      "\n",
      "📊 REGRESSION MODEL PERFORMANCE\n",
      "==================================================\n",
      "R² Score: -0.583\n"
     ]
    },
    {
     "data": {
      "image/png": "[encoded data removed]",
      "text/plain": [
       "<Figure size 1000x800 with 1 Axes>"
      ]
     },
     "metadata": {},
     "output_type": "display_data"
    },
    {
     "name": "stdout",
     "output_type": "stream",
     "text": [
      "\n",
      "🔍 TOP 10 MOST IMPORTANT FEATURES\n",
      "==================================================\n",
      "rainfall_anomaly     0.154\n",
      "food_price_index     0.145\n",
      "market_access        0.126\n",
      "rainfall_mm          0.112\n",
      "drought_index        0.107\n",
      "ndvi_anomaly         0.104\n",
      "temperature_avg      0.086\n",
      "rainfall_lag1        0.040\n",
      "conflict_events      0.038\n",
      "rainfall_ma3         0.029\n"
     ]
    }
   ],
   "source": [
    "# Classification Model Evaluation\n",
    "y_pred_class = rf_classifier.predict(X_test)\n",
    "class_accuracy = accuracy_score(y_class_test, y_pred_class)\n",
    "\n",
    "print(\"🎯 CLASSIFICATION MODEL PERFORMANCE\")\n",
    "print(\"=\" * 50)\n",
    "print(f\"Accuracy: {class_accuracy:.3f}\")\n",
    "print(\"\\nClassification Report:\")\n",
    "print(classification_report(y_class_test, y_pred_class))\n",
    "\n",
    "# Confusion Matrix\n",
    "plt.figure(figsize=(8, 6))\n",
    "cm = confusion_matrix(y_class_test, y_pred_class)\n",
    "sns.heatmap(cm, annot=True, fmt='d', cmap='Blues',\n",
    "            xticklabels=['Phase 1', 'Phase 2', 'Phase 3', 'Phase 4'],\n",
    "            yticklabels=['Phase 1', 'Phase 2', 'Phase 3', 'Phase 4'])\n",
    "plt.title('Confusion Matrix - IPC Phase Prediction')\n",
    "plt.ylabel('Actual')\n",
    "plt.xlabel('Predicted')\n",
    "plt.show()\n",
    "\n",
    "# Regression Model Evaluation\n",
    "y_pred_reg = rf_regressor.predict(X_test)\n",
    "reg_r2 = rf_regressor.score(X_test, y_reg_test)\n",
    "\n",
    "print(f\"\\n📊 REGRESSION MODEL PERFORMANCE\")\n",
    "print(\"=\" * 50)\n",
    "print(f\"R² Score: {reg_r2:.3f}\")\n",
    "\n",
    "# Feature Importance\n",
    "feature_importance = pd.DataFrame({\n",
    "    'feature': feature_columns,\n",
    "    'importance': rf_classifier.feature_importances_\n",
    "}).sort_values('importance', ascending=False)\n",
    "\n",
    "plt.figure(figsize=(10, 8))\n",
    "sns.barplot(data=feature_importance, x='importance', y='feature')\n",
    "plt.title('Feature Importance - IPC Phase Prediction')\n",
    "plt.xlabel('Importance Score')\n",
    "plt.tight_layout()\n",
    "plt.show()\n",
    "\n",
    "print(\"\\n🔍 TOP 10 MOST IMPORTANT FEATURES\")\n",
    "print(\"=\" * 50)\n",
    "for idx, row in feature_importance.head(10).iterrows():\n",
    "    print(f\"{row['feature']:<20} {row['importance']:.3f}\")\n"
   ]
  },
  {
   "cell_type": "code",
   "execution_count": 53,
   "id": "3392a20a-c9a6-40ff-b391-889e447e6fc8",
   "metadata": {},
   "outputs": [
    {
     "name": "stdout",
     "output_type": "stream",
     "text": [
      "🔮 TESTING PREDICTION FUNCTION\n",
      "==================================================\n",
      "\n",
      "Current Conditions (July 2024):\n",
      "  🟠 IPC Phase: 3 (CRISIS)\n",
      "  Risk Score: 49.5/100\n",
      "  Confidence: 51.0%\n",
      "\n",
      "Drought Scenario:\n",
      "  🟠 IPC Phase: 3 (CRISIS)\n",
      "  Risk Score: 51.3/100\n",
      "  Confidence: 53.0%\n",
      "\n",
      "Good Conditions:\n",
      "  🟡 IPC Phase: 2 (STRESSED)\n",
      "  Risk Score: 30.3/100\n",
      "  Confidence: 74.0%\n",
      "\n",
      "Conflict Scenario:\n",
      "  🟠 IPC Phase: 3 (CRISIS)\n",
      "  Risk Score: 15.1/100\n",
      "  Confidence: 91.0%\n"
     ]
    }
   ],
   "source": [
    "def predict_food_security(rainfall, food_price, conflicts, temperature=29, \n",
    "                         ndvi_anomaly=-0.3, market_access=60, month=7):\n",
    "    \"\"\"\n",
    "    Predict food security status based on input parameters\n",
    "    \n",
    "    Parameters:\n",
    "    - rainfall: Monthly rainfall in mm\n",
    "    - food_price: Food price index\n",
    "    - conflicts: Number of conflict events\n",
    "    - temperature: Average temperature (default: 29°C)\n",
    "    - ndvi_anomaly: Vegetation health anomaly (default: -0.3)\n",
    "    - market_access: Market accessibility score (default: 60)\n",
    "    - month: Month of year (default: 7 for July)\n",
    "    \n",
    "    Returns:\n",
    "    - Dictionary with predictions and risk assessment\n",
    "    \"\"\"\n",
    "    \n",
    "    # Calculate derived features\n",
    "    rainfall_anomaly = ((rainfall - 45) / 45) * 100  # Assuming 45mm as average\n",
    "    drought_index = -1.5 if rainfall < 30 else (-0.5 if rainfall < 50 else 0.2)\n",
    "    quarter = (month - 1) // 3 + 1\n",
    "    \n",
    "    # Create input array\n",
    "    input_features = np.array([[\n",
    "        rainfall, rainfall_anomaly, temperature, food_price, conflicts,\n",
    "        ndvi_anomaly, market_access, drought_index,\n",
    "        rainfall, food_price, conflicts,  # lag features (simplified)\n",
    "        rainfall, food_price,  # moving averages (simplified)\n",
    "        month, quarter\n",
    "    ]])\n",
    "    \n",
    "    # Scale features\n",
    "    input_scaled = scaler.transform(input_features)\n",
    "    \n",
    "    # Make predictions\n",
    "    ipc_pred = rf_classifier.predict(input_features)[0]\n",
    "    ipc_proba = rf_classifier.predict_proba(input_features)[0]\n",
    "    risk_score = rf_regressor.predict(input_features)[0]\n",
    "    \n",
    "    # Risk assessment\n",
    "    if ipc_pred >= 4:\n",
    "        risk_level = \"EMERGENCY\"\n",
    "        color = \"🔴\"\n",
    "    elif ipc_pred == 3:\n",
    "        risk_level = \"CRISIS\"\n",
    "        color = \"🟠\"\n",
    "    elif ipc_pred == 2:\n",
    "        risk_level = \"STRESSED\"\n",
    "        color = \"🟡\"\n",
    "    else:\n",
    "        risk_level = \"MINIMAL\"\n",
    "        color = \"🟢\"\n",
    "    \n",
    "    return {\n",
    "        'ipc_phase': int(ipc_pred),\n",
    "        'risk_level': risk_level,\n",
    "        'risk_score': round(risk_score, 1),\n",
    "        'confidence': round(max(ipc_proba) * 100, 1),\n",
    "        'color': color,\n",
    "        'phase_probabilities': {f'Phase {i+1}': round(prob*100, 1) \n",
    "                              for i, prob in enumerate(ipc_proba)}\n",
    "    }\n",
    "\n",
    "# Test the prediction function\n",
    "print(\"🔮 TESTING PREDICTION FUNCTION\")\n",
    "print(\"=\" * 50)\n",
    "\n",
    "# Test scenarios\n",
    "scenarios = [\n",
    "    {\"name\": \"Current Conditions (July 2024)\", \"rainfall\": 20, \"food_price\": 104, \"conflicts\": 4},\n",
    "    {\"name\": \"Drought Scenario\", \"rainfall\": 10, \"food_price\": 115, \"conflicts\": 2},\n",
    "    {\"name\": \"Good Conditions\", \"rainfall\": 70, \"food_price\": 80, \"conflicts\": 0},\n",
    "    {\"name\": \"Conflict Scenario\", \"rainfall\": 45, \"food_price\": 95, \"conflicts\": 6}\n",
    "]\n",
    "\n",
    "for scenario in scenarios:\n",
    "    result = predict_food_security(\n",
    "        rainfall=scenario[\"rainfall\"],\n",
    "        food_price=scenario[\"food_price\"],\n",
    "        conflicts=scenario[\"conflicts\"]\n",
    "    )\n",
    "    \n",
    "    print(f\"\\n{scenario['name']}:\")\n",
    "    print(f\"  {result['color']} IPC Phase: {result['ipc_phase']} ({result['risk_level']})\")\n",
    "    print(f\"  Risk Score: {result['risk_score']}/100\")\n",
    "    print(f\"  Confidence: {result['confidence']}%\")"
   ]
  },
  {
   "cell_type": "code",
   "execution_count": 54,
   "id": "86adbe49-2008-48af-9936-556cc0f3e701",
   "metadata": {},
   "outputs": [
    {
     "data": {
      "application/vnd.plotly.v1+json": {
       "config": {
        "plotlyServerURL": "https://plot.ly"
       },
       "data": [
        {
         "line": {
          "color": "red",
          "width": 3
         },
         "marker": {
          "size": 8
         },
         "mode": "lines+markers",
         "name": "Actual IPC Phase",
         "type": "scatter",
         "x": [
          "2023-01-01T00:00:00.000000000",
          "2023-02-01T00:00:00.000000000",
          "2023-03-01T00:00:00.000000000",
          "2023-04-01T00:00:00.000000000",
          "2023-05-01T00:00:00.000000000",
          "2023-06-01T00:00:00.000000000",
          "2023-07-01T00:00:00.000000000",
          "2023-08-01T00:00:00.000000000",
          "2023-09-01T00:00:00.000000000",
          "2023-10-01T00:00:00.000000000",
          "2023-11-01T00:00:00.000000000",
          "2023-12-01T00:00:00.000000000",
          "2024-01-01T00:00:00.000000000",
          "2024-02-01T00:00:00.000000000",
          "2024-03-01T00:00:00.000000000",
          "2024-04-01T00:00:00.000000000",
          "2024-05-01T00:00:00.000000000",
          "2024-06-01T00:00:00.000000000",
          "2024-07-01T00:00:00.000000000",
          "2024-08-01T00:00:00.000000000",
          "2024-09-01T00:00:00.000000000",
          "2024-10-01T00:00:00.000000000",
          "2024-11-01T00:00:00.000000000",
          "2024-12-01T00:00:00.000000000"
         ],
         "xaxis": "x",
         "y": {
          "bdata": "AgMDAgIDBAQEAwMCAwMDAgIDBAQEAwMC",
          "dtype": "i1"
         },
         "yaxis": "y"
        },
        {
         "marker": {
          "color": {
           "bdata": "AgMDAgIDBAQEAwMCAwMDAgIDBAQEAwMC",
           "dtype": "i1"
          },
          "colorbar": {
           "title": {
            "text": "IPC Phase"
           }
          },
          "colorscale": [
           [
            0,
            "rgb(0,104,55)"
           ],
           [
            0.1,
            "rgb(26,152,80)"
           ],
           [
            0.2,
            "rgb(102,189,99)"
           ],
           [
            0.3,
            "rgb(166,217,106)"
           ],
           [
            0.4,
            "rgb(217,239,139)"
           ],
           [
            0.5,
            "rgb(255,255,191)"
           ],
           [
            0.6,
            "rgb(254,224,139)"
           ],
           [
            0.7,
            "rgb(253,174,97)"
           ],
           [
            0.8,
            "rgb(244,109,67)"
           ],
           [
            0.9,
            "rgb(215,48,39)"
           ],
           [
            1,
            "rgb(165,0,38)"
           ]
          ],
          "showscale": true,
          "size": 8
         },
         "mode": "markers",
         "name": "Data Points",
         "type": "scatter",
         "x": {
          "bdata": "LSAcQU4ZEg8WIzdEKiYeOkgcFBAYJjRB",
          "dtype": "i1"
         },
         "xaxis": "x2",
         "y": {
          "bdata": "VVpfWFJiaW5sZl9YXGBkW1ViaGxqZF1W",
          "dtype": "i1"
         },
         "yaxis": "y2"
        },
        {
         "marker": {
          "color": "darkred"
         },
         "name": "Conflict Events",
         "opacity": 0.7,
         "type": "bar",
         "x": [
          "2023-01-01T00:00:00.000000000",
          "2023-02-01T00:00:00.000000000",
          "2023-03-01T00:00:00.000000000",
          "2023-04-01T00:00:00.000000000",
          "2023-05-01T00:00:00.000000000",
          "2023-06-01T00:00:00.000000000",
          "2023-07-01T00:00:00.000000000",
          "2023-08-01T00:00:00.000000000",
          "2023-09-01T00:00:00.000000000",
          "2023-10-01T00:00:00.000000000",
          "2023-11-01T00:00:00.000000000",
          "2023-12-01T00:00:00.000000000",
          "2024-01-01T00:00:00.000000000",
          "2024-02-01T00:00:00.000000000",
          "2024-03-01T00:00:00.000000000",
          "2024-04-01T00:00:00.000000000",
          "2024-05-01T00:00:00.000000000",
          "2024-06-01T00:00:00.000000000",
          "2024-07-01T00:00:00.000000000",
          "2024-08-01T00:00:00.000000000",
          "2024-09-01T00:00:00.000000000",
          "2024-10-01T00:00:00.000000000",
          "2024-11-01T00:00:00.000000000",
          "2024-12-01T00:00:00.000000000"
         ],
         "xaxis": "x3",
         "y": {
          "bdata": "AQIBAAECAwIBAgEAAgEDAQACBAMCAQIB",
          "dtype": "i1"
         },
         "yaxis": "y4"
        },
        {
         "marker": {
          "color": "steelblue"
         },
         "name": "Feature Importance",
         "orientation": "h",
         "type": "bar",
         "x": {
          "bdata": "x/rOnSy8wz+u5ZF6ZpjCPzIJBlqIG8A/AmWifXazvD9Isuf3jky7P2a1LqiNk7o/lljXUVkOtj813HDmuKakPw==",
          "dtype": "f8"
         },
         "xaxis": "x4",
         "y": [
          "rainfall_anomaly",
          "food_price_index",
          "market_access",
          "rainfall_mm",
          "drought_index",
          "ndvi_anomaly",
          "temperature_avg",
          "rainfall_lag1"
         ],
         "yaxis": "y5"
        },
        {
         "marker": {
          "color": [
           "yellow",
           "yellow",
           "yellow"
          ]
         },
         "name": "Predicted IPC Phase",
         "type": "bar",
         "x": [
          "Aug 2024",
          "Sep 2024",
          "Oct 2024"
         ],
         "xaxis": "x5",
         "y": [
          2,
          2,
          2
         ],
         "yaxis": "y6"
        }
       ],
       "layout": {
        "annotations": [
         {
          "font": {
           "size": 16
          },
          "showarrow": false,
          "text": "IPC Phase Timeline",
          "x": 0.47000000000000003,
          "xanchor": "center",
          "xref": "paper",
          "y": 1,
          "yanchor": "bottom",
          "yref": "paper"
         },
         {
          "font": {
           "size": 16
          },
          "showarrow": false,
          "text": "Risk Score Prediction",
          "x": 0.185,
          "xanchor": "center",
          "xref": "paper",
          "y": 0.6266666666666667,
          "yanchor": "bottom",
          "yref": "paper"
         },
         {
          "font": {
           "size": 16
          },
          "showarrow": false,
          "text": "Rainfall vs Food Prices",
          "x": 0.7550000000000001,
          "xanchor": "center",
          "xref": "paper",
          "y": 0.6266666666666667,
          "yanchor": "bottom",
          "yref": "paper"
         },
         {
          "font": {
           "size": 16
          },
          "showarrow": false,
          "text": "Conflict Impact",
          "x": 0.185,
          "xanchor": "center",
          "xref": "paper",
          "y": 0.25333333333333335,
          "yanchor": "bottom",
          "yref": "paper"
         },
         {
          "font": {
           "size": 16
          },
          "showarrow": false,
          "text": "Feature Importance",
          "x": 0.7550000000000001,
          "xanchor": "center",
          "xref": "paper",
          "y": 0.25333333333333335,
          "yanchor": "bottom",
          "yref": "paper"
         },
         {
          "bgcolor": "lightblue",
          "bordercolor": "blue",
          "borderwidth": 1,
          "font": {
           "color": "black",
           "size": 14
          },
          "showarrow": false,
          "text": "Current Status: IPC Phase 2 - Turkana",
          "x": 0.5,
          "xref": "paper",
          "y": 0.95,
          "yref": "paper"
         }
        ],
        "height": 900,
        "shapes": [
         {
          "fillcolor": "green",
          "opacity": 0.1,
          "type": "rect",
          "x0": 0,
          "x1": 1,
          "xref": "x domain",
          "y0": 1,
          "y1": 2,
          "yref": "y"
         },
         {
          "fillcolor": "yellow",
          "opacity": 0.1,
          "type": "rect",
          "x0": 0,
          "x1": 1,
          "xref": "x domain",
          "y0": 2,
          "y1": 3,
          "yref": "y"
         },
         {
          "fillcolor": "orange",
          "opacity": 0.1,
          "type": "rect",
          "x0": 0,
          "x1": 1,
          "xref": "x domain",
          "y0": 3,
          "y1": 4,
          "yref": "y"
         },
         {
          "fillcolor": "red",
          "opacity": 0.1,
          "type": "rect",
          "x0": 0,
          "x1": 1,
          "xref": "x domain",
          "y0": 4,
          "y1": 5,
          "yref": "y"
         }
        ],
        "showlegend": true,
        "template": {
         "data": {
          "bar": [
           {
            "error_x": {
             "color": "#2a3f5f"
            },
            "error_y": {
             "color": "#2a3f5f"
            },
            "marker": {
             "line": {
              "color": "white",
              "width": 0.5
             },
             "pattern": {
              "fillmode": "overlay",
              "size": 10,
              "solidity": 0.2
             }
            },
            "type": "bar"
           }
          ],
          "barpolar": [
           {
            "marker": {
             "line": {
              "color": "white",
              "width": 0.5
             },
             "pattern": {
              "fillmode": "overlay",
              "size": 10,
              "solidity": 0.2
             }
            },
            "type": "barpolar"
           }
          ],
          "carpet": [
           {
            "aaxis": {
             "endlinecolor": "#2a3f5f",
             "gridcolor": "#C8D4E3",
             "linecolor": "#C8D4E3",
             "minorgridcolor": "#C8D4E3",
             "startlinecolor": "#2a3f5f"
            },
            "baxis": {
             "endlinecolor": "#2a3f5f",
             "gridcolor": "#C8D4E3",
             "linecolor": "#C8D4E3",
             "minorgridcolor": "#C8D4E3",
             "startlinecolor": "#2a3f5f"
            },
            "type": "carpet"
           }
          ],
          "choropleth": [
           {
            "colorbar": {
             "outlinewidth": 0,
             "ticks": ""
            },
            "type": "choropleth"
           }
          ],
          "contour": [
           {
            "colorbar": {
             "outlinewidth": 0,
             "ticks": ""
            },
            "colorscale": [
             [
              0,
              "#0d0887"
             ],
             [
              0.1111111111111111,
              "#46039f"
             ],
             [
              0.2222222222222222,
              "#7201a8"
             ],
             [
              0.3333333333333333,
              "#9c179e"
             ],
             [
              0.4444444444444444,
              "#bd3786"
             ],
             [
              0.5555555555555556,
              "#d8576b"
             ],
             [
              0.6666666666666666,
              "#ed7953"
             ],
             [
              0.7777777777777778,
              "#fb9f3a"
             ],
             [
              0.8888888888888888,
              "#fdca26"
             ],
             [
              1,
              "#f0f921"
             ]
            ],
            "type": "contour"
           }
          ],
          "contourcarpet": [
           {
            "colorbar": {
             "outlinewidth": 0,
             "ticks": ""
            },
            "type": "contourcarpet"
           }
          ],
          "heatmap": [
           {
            "colorbar": {
             "outlinewidth": 0,
             "ticks": ""
            },
            "colorscale": [
             [
              0,
              "#0d0887"
             ],
             [
              0.1111111111111111,
              "#46039f"
             ],
             [
              0.2222222222222222,
              "#7201a8"
             ],
             [
              0.3333333333333333,
              "#9c179e"
             ],
             [
              0.4444444444444444,
              "#bd3786"
             ],
             [
              0.5555555555555556,
              "#d8576b"
             ],
             [
              0.6666666666666666,
              "#ed7953"
             ],
             [
              0.7777777777777778,
              "#fb9f3a"
             ],
             [
              0.8888888888888888,
              "#fdca26"
             ],
             [
              1,
              "#f0f921"
             ]
            ],
            "type": "heatmap"
           }
          ],
          "histogram": [
           {
            "marker": {
             "pattern": {
              "fillmode": "overlay",
              "size": 10,
              "solidity": 0.2
             }
            },
            "type": "histogram"
           }
          ],
          "histogram2d": [
           {
            "colorbar": {
             "outlinewidth": 0,
             "ticks": ""
            },
            "colorscale": [
             [
              0,
              "#0d0887"
             ],
             [
              0.1111111111111111,
              "#46039f"
             ],
             [
              0.2222222222222222,
              "#7201a8"
             ],
             [
              0.3333333333333333,
              "#9c179e"
             ],
             [
              0.4444444444444444,
              "#bd3786"
             ],
             [
              0.5555555555555556,
              "#d8576b"
             ],
             [
              0.6666666666666666,
              "#ed7953"
             ],
             [
              0.7777777777777778,
              "#fb9f3a"
             ],
             [
              0.8888888888888888,
              "#fdca26"
             ],
             [
              1,
              "#f0f921"
             ]
            ],
            "type": "histogram2d"
           }
          ],
          "histogram2dcontour": [
           {
            "colorbar": {
             "outlinewidth": 0,
             "ticks": ""
            },
            "colorscale": [
             [
              0,
              "#0d0887"
             ],
             [
              0.1111111111111111,
              "#46039f"
             ],
             [
              0.2222222222222222,
              "#7201a8"
             ],
             [
              0.3333333333333333,
              "#9c179e"
             ],
             [
              0.4444444444444444,
              "#bd3786"
             ],
             [
              0.5555555555555556,
              "#d8576b"
             ],
             [
              0.6666666666666666,
              "#ed7953"
             ],
             [
              0.7777777777777778,
              "#fb9f3a"
             ],
             [
              0.8888888888888888,
              "#fdca26"
             ],
             [
              1,
              "#f0f921"
             ]
            ],
            "type": "histogram2dcontour"
           }
          ],
          "mesh3d": [
           {
            "colorbar": {
             "outlinewidth": 0,
             "ticks": ""
            },
            "type": "mesh3d"
           }
          ],
          "parcoords": [
           {
            "line": {
             "colorbar": {
              "outlinewidth": 0,
              "ticks": ""
             }
            },
            "type": "parcoords"
           }
          ],
          "pie": [
           {
            "automargin": true,
            "type": "pie"
           }
          ],
          "scatter": [
           {
            "fillpattern": {
             "fillmode": "overlay",
             "size": 10,
             "solidity": 0.2
            },
            "type": "scatter"
           }
          ],
          "scatter3d": [
           {
            "line": {
             "colorbar": {
              "outlinewidth": 0,
              "ticks": ""
             }
            },
            "marker": {
             "colorbar": {
              "outlinewidth": 0,
              "ticks": ""
             }
            },
            "type": "scatter3d"
           }
          ],
          "scattercarpet": [
           {
            "marker": {
             "colorbar": {
              "outlinewidth": 0,
              "ticks": ""
             }
            },
            "type": "scattercarpet"
           }
          ],
          "scattergeo": [
           {
            "marker": {
             "colorbar": {
              "outlinewidth": 0,
              "ticks": ""
             }
            },
            "type": "scattergeo"
           }
          ],
          "scattergl": [
           {
            "marker": {
             "colorbar": {
              "outlinewidth": 0,
              "ticks": ""
             }
            },
            "type": "scattergl"
           }
          ],
          "scattermap": [
           {
            "marker": {
             "colorbar": {
              "outlinewidth": 0,
              "ticks": ""
             }
            },
            "type": "scattermap"
           }
          ],
          "scattermapbox": [
           {
            "marker": {
             "colorbar": {
              "outlinewidth": 0,
              "ticks": ""
             }
            },
            "type": "scattermapbox"
           }
          ],
          "scatterpolar": [
           {
            "marker": {
             "colorbar": {
              "outlinewidth": 0,
              "ticks": ""
             }
            },
            "type": "scatterpolar"
           }
          ],
          "scatterpolargl": [
           {
            "marker": {
             "colorbar": {
              "outlinewidth": 0,
              "ticks": ""
             }
            },
            "type": "scatterpolargl"
           }
          ],
          "scatterternary": [
           {
            "marker": {
             "colorbar": {
              "outlinewidth": 0,
              "ticks": ""
             }
            },
            "type": "scatterternary"
           }
          ],
          "surface": [
           {
            "colorbar": {
             "outlinewidth": 0,
             "ticks": ""
            },
            "colorscale": [
             [
              0,
              "#0d0887"
             ],
             [
              0.1111111111111111,
              "#46039f"
             ],
             [
              0.2222222222222222,
              "#7201a8"
             ],
             [
              0.3333333333333333,
              "#9c179e"
             ],
             [
              0.4444444444444444,
              "#bd3786"
             ],
             [
              0.5555555555555556,
              "#d8576b"
             ],
             [
              0.6666666666666666,
              "#ed7953"
             ],
             [
              0.7777777777777778,
              "#fb9f3a"
             ],
             [
              0.8888888888888888,
              "#fdca26"
             ],
             [
              1,
              "#f0f921"
             ]
            ],
            "type": "surface"
           }
          ],
          "table": [
           {
            "cells": {
             "fill": {
              "color": "#EBF0F8"
             },
             "line": {
              "color": "white"
             }
            },
            "header": {
             "fill": {
              "color": "#C8D4E3"
             },
             "line": {
              "color": "white"
             }
            },
            "type": "table"
           }
          ]
         },
         "layout": {
          "annotationdefaults": {
           "arrowcolor": "#2a3f5f",
           "arrowhead": 0,
           "arrowwidth": 1
          },
          "autotypenumbers": "strict",
          "coloraxis": {
           "colorbar": {
            "outlinewidth": 0,
            "ticks": ""
           }
          },
          "colorscale": {
           "diverging": [
            [
             0,
             "#8e0152"
            ],
            [
             0.1,
             "#c51b7d"
            ],
            [
             0.2,
             "#de77ae"
            ],
            [
             0.3,
             "#f1b6da"
            ],
            [
             0.4,
             "#fde0ef"
            ],
            [
             0.5,
             "#f7f7f7"
            ],
            [
             0.6,
             "#e6f5d0"
            ],
            [
             0.7,
             "#b8e186"
            ],
            [
             0.8,
             "#7fbc41"
            ],
            [
             0.9,
             "#4d9221"
            ],
            [
             1,
             "#276419"
            ]
           ],
           "sequential": [
            [
             0,
             "#0d0887"
            ],
            [
             0.1111111111111111,
             "#46039f"
            ],
            [
             0.2222222222222222,
             "#7201a8"
            ],
            [
             0.3333333333333333,
             "#9c179e"
            ],
            [
             0.4444444444444444,
             "#bd3786"
            ],
            [
             0.5555555555555556,
             "#d8576b"
            ],
            [
             0.6666666666666666,
             "#ed7953"
            ],
            [
             0.7777777777777778,
             "#fb9f3a"
            ],
            [
             0.8888888888888888,
             "#fdca26"
            ],
            [
             1,
             "#f0f921"
            ]
           ],
           "sequentialminus": [
            [
             0,
             "#0d0887"
            ],
            [
             0.1111111111111111,
             "#46039f"
            ],
            [
             0.2222222222222222,
             "#7201a8"
            ],
            [
             0.3333333333333333,
             "#9c179e"
            ],
            [
             0.4444444444444444,
             "#bd3786"
            ],
            [
             0.5555555555555556,
             "#d8576b"
            ],
            [
             0.6666666666666666,
             "#ed7953"
            ],
            [
             0.7777777777777778,
             "#fb9f3a"
            ],
            [
             0.8888888888888888,
             "#fdca26"
            ],
            [
             1,
             "#f0f921"
            ]
           ]
          },
          "colorway": [
           "#636efa",
           "#EF553B",
           "#00cc96",
           "#ab63fa",
           "#FFA15A",
           "#19d3f3",
           "#FF6692",
           "#B6E880",
           "#FF97FF",
           "#FECB52"
          ],
          "font": {
           "color": "#2a3f5f"
          },
          "geo": {
           "bgcolor": "white",
           "lakecolor": "white",
           "landcolor": "white",
           "showlakes": true,
           "showland": true,
           "subunitcolor": "#C8D4E3"
          },
          "hoverlabel": {
           "align": "left"
          },
          "hovermode": "closest",
          "mapbox": {
           "style": "light"
          },
          "paper_bgcolor": "white",
          "plot_bgcolor": "white",
          "polar": {
           "angularaxis": {
            "gridcolor": "#EBF0F8",
            "linecolor": "#EBF0F8",
            "ticks": ""
           },
           "bgcolor": "white",
           "radialaxis": {
            "gridcolor": "#EBF0F8",
            "linecolor": "#EBF0F8",
            "ticks": ""
           }
          },
          "scene": {
           "xaxis": {
            "backgroundcolor": "white",
            "gridcolor": "#DFE8F3",
            "gridwidth": 2,
            "linecolor": "#EBF0F8",
            "showbackground": true,
            "ticks": "",
            "zerolinecolor": "#EBF0F8"
           },
           "yaxis": {
            "backgroundcolor": "white",
            "gridcolor": "#DFE8F3",
            "gridwidth": 2,
            "linecolor": "#EBF0F8",
            "showbackground": true,
            "ticks": "",
            "zerolinecolor": "#EBF0F8"
           },
           "zaxis": {
            "backgroundcolor": "white",
            "gridcolor": "#DFE8F3",
            "gridwidth": 2,
            "linecolor": "#EBF0F8",
            "showbackground": true,
            "ticks": "",
            "zerolinecolor": "#EBF0F8"
           }
          },
          "shapedefaults": {
           "line": {
            "color": "#2a3f5f"
           }
          },
          "ternary": {
           "aaxis": {
            "gridcolor": "#DFE8F3",
            "linecolor": "#A2B1C6",
            "ticks": ""
           },
           "baxis": {
            "gridcolor": "#DFE8F3",
            "linecolor": "#A2B1C6",
            "ticks": ""
           },
           "bgcolor": "white",
           "caxis": {
            "gridcolor": "#DFE8F3",
            "linecolor": "#A2B1C6",
            "ticks": ""
           }
          },
          "title": {
           "x": 0.05
          },
          "xaxis": {
           "automargin": true,
           "gridcolor": "#EBF0F8",
           "linecolor": "#EBF0F8",
           "ticks": "",
           "title": {
            "standoff": 15
           },
           "zerolinecolor": "#EBF0F8",
           "zerolinewidth": 2
          },
          "yaxis": {
           "automargin": true,
           "gridcolor": "#EBF0F8",
           "linecolor": "#EBF0F8",
           "ticks": "",
           "title": {
            "standoff": 15
           },
           "zerolinecolor": "#EBF0F8",
           "zerolinewidth": 2
          }
         }
        },
        "title": {
         "text": "🇰🇪 Kenya Food Security Warning System - Interactive Dashboard",
         "x": 0.5
        },
        "xaxis": {
         "anchor": "y",
         "domain": [
          0,
          0.9400000000000001
         ]
        },
        "xaxis2": {
         "anchor": "y2",
         "domain": [
          0,
          0.37
         ]
        },
        "xaxis3": {
         "anchor": "y4",
         "domain": [
          0.5700000000000001,
          0.9400000000000001
         ]
        },
        "xaxis4": {
         "anchor": "y5",
         "domain": [
          0,
          0.37
         ]
        },
        "xaxis5": {
         "anchor": "y6",
         "domain": [
          0.5700000000000001,
          0.9400000000000001
         ]
        },
        "yaxis": {
         "anchor": "x",
         "domain": [
          0.7466666666666667,
          1
         ]
        },
        "yaxis2": {
         "anchor": "x2",
         "domain": [
          0.37333333333333335,
          0.6266666666666667
         ]
        },
        "yaxis3": {
         "anchor": "x2",
         "overlaying": "y2",
         "side": "right"
        },
        "yaxis4": {
         "anchor": "x3",
         "domain": [
          0.37333333333333335,
          0.6266666666666667
         ]
        },
        "yaxis5": {
         "anchor": "x4",
         "domain": [
          0,
          0.25333333333333335
         ]
        },
        "yaxis6": {
         "anchor": "x5",
         "domain": [
          0,
          0.25333333333333335
         ]
        }
       }
      },
      "text/html": [
       "<div>            <script src=\"https://cdnjs.cloudflare.com/ajax/libs/mathjax/2.7.5/MathJax.js?config=TeX-AMS-MML_SVG\"></script><script type=\"text/javascript\">if (window.MathJax && window.MathJax.Hub && window.MathJax.Hub.Config) {window.MathJax.Hub.Config({SVG: {font: \"STIX-Web\"}});}</script>                <script type=\"text/javascript\">window.PlotlyConfig = {MathJaxConfig: 'local'};</script>\n",
       "        <script charset=\"utf-8\" src=\"https://cdn.plot.ly/plotly-3.0.1.min.js\" integrity=\"sha256-oy6Be7Eh6eiQFs5M7oXuPxxm9qbJXEtTpfSI93dW16Q=\" crossorigin=\"anonymous\"></script>                <div id=\"31c3c9ac-dd56-4ee5-a744-bae2f3972c86\" class=\"plotly-graph-div\" style=\"height:900px; width:100%;\"></div>            <script type=\"text/javascript\">                window.PLOTLYENV=window.PLOTLYENV || {};                                if (document.getElementById(\"31c3c9ac-dd56-4ee5-a744-bae2f3972c86\")) {                    Plotly.newPlot(                        \"31c3c9ac-dd56-4ee5-a744-bae2f3972c86\",                        [{\"line\":{\"color\":\"red\",\"width\":3},\"marker\":{\"size\":8},\"mode\":\"lines+markers\",\"name\":\"Actual IPC Phase\",\"x\":[\"2023-01-01T00:00:00.000000000\",\"2023-02-01T00:00:00.000000000\",\"2023-03-01T00:00:00.000000000\",\"2023-04-01T00:00:00.000000000\",\"2023-05-01T00:00:00.000000000\",\"2023-06-01T00:00:00.000000000\",\"2023-07-01T00:00:00.000000000\",\"2023-08-01T00:00:00.000000000\",\"2023-09-01T00:00:00.000000000\",\"2023-10-01T00:00:00.000000000\",\"2023-11-01T00:00:00.000000000\",\"2023-12-01T00:00:00.000000000\",\"2024-01-01T00:00:00.000000000\",\"2024-02-01T00:00:00.000000000\",\"2024-03-01T00:00:00.000000000\",\"2024-04-01T00:00:00.000000000\",\"2024-05-01T00:00:00.000000000\",\"2024-06-01T00:00:00.000000000\",\"2024-07-01T00:00:00.000000000\",\"2024-08-01T00:00:00.000000000\",\"2024-09-01T00:00:00.000000000\",\"2024-10-01T00:00:00.000000000\",\"2024-11-01T00:00:00.000000000\",\"2024-12-01T00:00:00.000000000\"],\"y\":{\"dtype\":\"i1\",\"bdata\":\"AgMDAgIDBAQEAwMCAwMDAgIDBAQEAwMC\"},\"type\":\"scatter\",\"xaxis\":\"x\",\"yaxis\":\"y\"},{\"marker\":{\"color\":{\"dtype\":\"i1\",\"bdata\":\"AgMDAgIDBAQEAwMCAwMDAgIDBAQEAwMC\"},\"colorbar\":{\"title\":{\"text\":\"IPC Phase\"}},\"colorscale\":[[0.0,\"rgb(0,104,55)\"],[0.1,\"rgb(26,152,80)\"],[0.2,\"rgb(102,189,99)\"],[0.3,\"rgb(166,217,106)\"],[0.4,\"rgb(217,239,139)\"],[0.5,\"rgb(255,255,191)\"],[0.6,\"rgb(254,224,139)\"],[0.7,\"rgb(253,174,97)\"],[0.8,\"rgb(244,109,67)\"],[0.9,\"rgb(215,48,39)\"],[1.0,\"rgb(165,0,38)\"]],\"showscale\":true,\"size\":8},\"mode\":\"markers\",\"name\":\"Data Points\",\"x\":{\"dtype\":\"i1\",\"bdata\":\"LSAcQU4ZEg8WIzdEKiYeOkgcFBAYJjRB\"},\"y\":{\"dtype\":\"i1\",\"bdata\":\"VVpfWFJiaW5sZl9YXGBkW1ViaGxqZF1W\"},\"type\":\"scatter\",\"xaxis\":\"x2\",\"yaxis\":\"y2\"},{\"marker\":{\"color\":\"darkred\"},\"name\":\"Conflict Events\",\"opacity\":0.7,\"x\":[\"2023-01-01T00:00:00.000000000\",\"2023-02-01T00:00:00.000000000\",\"2023-03-01T00:00:00.000000000\",\"2023-04-01T00:00:00.000000000\",\"2023-05-01T00:00:00.000000000\",\"2023-06-01T00:00:00.000000000\",\"2023-07-01T00:00:00.000000000\",\"2023-08-01T00:00:00.000000000\",\"2023-09-01T00:00:00.000000000\",\"2023-10-01T00:00:00.000000000\",\"2023-11-01T00:00:00.000000000\",\"2023-12-01T00:00:00.000000000\",\"2024-01-01T00:00:00.000000000\",\"2024-02-01T00:00:00.000000000\",\"2024-03-01T00:00:00.000000000\",\"2024-04-01T00:00:00.000000000\",\"2024-05-01T00:00:00.000000000\",\"2024-06-01T00:00:00.000000000\",\"2024-07-01T00:00:00.000000000\",\"2024-08-01T00:00:00.000000000\",\"2024-09-01T00:00:00.000000000\",\"2024-10-01T00:00:00.000000000\",\"2024-11-01T00:00:00.000000000\",\"2024-12-01T00:00:00.000000000\"],\"y\":{\"dtype\":\"i1\",\"bdata\":\"AQIBAAECAwIBAgEAAgEDAQACBAMCAQIB\"},\"type\":\"bar\",\"xaxis\":\"x3\",\"yaxis\":\"y4\"},{\"marker\":{\"color\":\"steelblue\"},\"name\":\"Feature Importance\",\"orientation\":\"h\",\"x\":{\"dtype\":\"f8\",\"bdata\":\"x\\u002frOnSy8wz+u5ZF6ZpjCPzIJBlqIG8A\\u002fAmWifXazvD9Isuf3jky7P2a1LqiNk7o\\u002flljXUVkOtj813HDmuKakPw==\"},\"y\":[\"rainfall_anomaly\",\"food_price_index\",\"market_access\",\"rainfall_mm\",\"drought_index\",\"ndvi_anomaly\",\"temperature_avg\",\"rainfall_lag1\"],\"type\":\"bar\",\"xaxis\":\"x4\",\"yaxis\":\"y5\"},{\"marker\":{\"color\":[\"yellow\",\"yellow\",\"yellow\"]},\"name\":\"Predicted IPC Phase\",\"x\":[\"Aug 2024\",\"Sep 2024\",\"Oct 2024\"],\"y\":[2,2,2],\"type\":\"bar\",\"xaxis\":\"x5\",\"yaxis\":\"y6\"}],                        {\"template\":{\"data\":{\"barpolar\":[{\"marker\":{\"line\":{\"color\":\"white\",\"width\":0.5},\"pattern\":{\"fillmode\":\"overlay\",\"size\":10,\"solidity\":0.2}},\"type\":\"barpolar\"}],\"bar\":[{\"error_x\":{\"color\":\"#2a3f5f\"},\"error_y\":{\"color\":\"#2a3f5f\"},\"marker\":{\"line\":{\"color\":\"white\",\"width\":0.5},\"pattern\":{\"fillmode\":\"overlay\",\"size\":10,\"solidity\":0.2}},\"type\":\"bar\"}],\"carpet\":[{\"aaxis\":{\"endlinecolor\":\"#2a3f5f\",\"gridcolor\":\"#C8D4E3\",\"linecolor\":\"#C8D4E3\",\"minorgridcolor\":\"#C8D4E3\",\"startlinecolor\":\"#2a3f5f\"},\"baxis\":{\"endlinecolor\":\"#2a3f5f\",\"gridcolor\":\"#C8D4E3\",\"linecolor\":\"#C8D4E3\",\"minorgridcolor\":\"#C8D4E3\",\"startlinecolor\":\"#2a3f5f\"},\"type\":\"carpet\"}],\"choropleth\":[{\"colorbar\":{\"outlinewidth\":0,\"ticks\":\"\"},\"type\":\"choropleth\"}],\"contourcarpet\":[{\"colorbar\":{\"outlinewidth\":0,\"ticks\":\"\"},\"type\":\"contourcarpet\"}],\"contour\":[{\"colorbar\":{\"outlinewidth\":0,\"ticks\":\"\"},\"colorscale\":[[0.0,\"#0d0887\"],[0.1111111111111111,\"#46039f\"],[0.2222222222222222,\"#7201a8\"],[0.3333333333333333,\"#9c179e\"],[0.4444444444444444,\"#bd3786\"],[0.5555555555555556,\"#d8576b\"],[0.6666666666666666,\"#ed7953\"],[0.7777777777777778,\"#fb9f3a\"],[0.8888888888888888,\"#fdca26\"],[1.0,\"#f0f921\"]],\"type\":\"contour\"}],\"heatmap\":[{\"colorbar\":{\"outlinewidth\":0,\"ticks\":\"\"},\"colorscale\":[[0.0,\"#0d0887\"],[0.1111111111111111,\"#46039f\"],[0.2222222222222222,\"#7201a8\"],[0.3333333333333333,\"#9c179e\"],[0.4444444444444444,\"#bd3786\"],[0.5555555555555556,\"#d8576b\"],[0.6666666666666666,\"#ed7953\"],[0.7777777777777778,\"#fb9f3a\"],[0.8888888888888888,\"#fdca26\"],[1.0,\"#f0f921\"]],\"type\":\"heatmap\"}],\"histogram2dcontour\":[{\"colorbar\":{\"outlinewidth\":0,\"ticks\":\"\"},\"colorscale\":[[0.0,\"#0d0887\"],[0.1111111111111111,\"#46039f\"],[0.2222222222222222,\"#7201a8\"],[0.3333333333333333,\"#9c179e\"],[0.4444444444444444,\"#bd3786\"],[0.5555555555555556,\"#d8576b\"],[0.6666666666666666,\"#ed7953\"],[0.7777777777777778,\"#fb9f3a\"],[0.8888888888888888,\"#fdca26\"],[1.0,\"#f0f921\"]],\"type\":\"histogram2dcontour\"}],\"histogram2d\":[{\"colorbar\":{\"outlinewidth\":0,\"ticks\":\"\"},\"colorscale\":[[0.0,\"#0d0887\"],[0.1111111111111111,\"#46039f\"],[0.2222222222222222,\"#7201a8\"],[0.3333333333333333,\"#9c179e\"],[0.4444444444444444,\"#bd3786\"],[0.5555555555555556,\"#d8576b\"],[0.6666666666666666,\"#ed7953\"],[0.7777777777777778,\"#fb9f3a\"],[0.8888888888888888,\"#fdca26\"],[1.0,\"#f0f921\"]],\"type\":\"histogram2d\"}],\"histogram\":[{\"marker\":{\"pattern\":{\"fillmode\":\"overlay\",\"size\":10,\"solidity\":0.2}},\"type\":\"histogram\"}],\"mesh3d\":[{\"colorbar\":{\"outlinewidth\":0,\"ticks\":\"\"},\"type\":\"mesh3d\"}],\"parcoords\":[{\"line\":{\"colorbar\":{\"outlinewidth\":0,\"ticks\":\"\"}},\"type\":\"parcoords\"}],\"pie\":[{\"automargin\":true,\"type\":\"pie\"}],\"scatter3d\":[{\"line\":{\"colorbar\":{\"outlinewidth\":0,\"ticks\":\"\"}},\"marker\":{\"colorbar\":{\"outlinewidth\":0,\"ticks\":\"\"}},\"type\":\"scatter3d\"}],\"scattercarpet\":[{\"marker\":{\"colorbar\":{\"outlinewidth\":0,\"ticks\":\"\"}},\"type\":\"scattercarpet\"}],\"scattergeo\":[{\"marker\":{\"colorbar\":{\"outlinewidth\":0,\"ticks\":\"\"}},\"type\":\"scattergeo\"}],\"scattergl\":[{\"marker\":{\"colorbar\":{\"outlinewidth\":0,\"ticks\":\"\"}},\"type\":\"scattergl\"}],\"scattermapbox\":[{\"marker\":{\"colorbar\":{\"outlinewidth\":0,\"ticks\":\"\"}},\"type\":\"scattermapbox\"}],\"scattermap\":[{\"marker\":{\"colorbar\":{\"outlinewidth\":0,\"ticks\":\"\"}},\"type\":\"scattermap\"}],\"scatterpolargl\":[{\"marker\":{\"colorbar\":{\"outlinewidth\":0,\"ticks\":\"\"}},\"type\":\"scatterpolargl\"}],\"scatterpolar\":[{\"marker\":{\"colorbar\":{\"outlinewidth\":0,\"ticks\":\"\"}},\"type\":\"scatterpolar\"}],\"scatter\":[{\"fillpattern\":{\"fillmode\":\"overlay\",\"size\":10,\"solidity\":0.2},\"type\":\"scatter\"}],\"scatterternary\":[{\"marker\":{\"colorbar\":{\"outlinewidth\":0,\"ticks\":\"\"}},\"type\":\"scatterternary\"}],\"surface\":[{\"colorbar\":{\"outlinewidth\":0,\"ticks\":\"\"},\"colorscale\":[[0.0,\"#0d0887\"],[0.1111111111111111,\"#46039f\"],[0.2222222222222222,\"#7201a8\"],[0.3333333333333333,\"#9c179e\"],[0.4444444444444444,\"#bd3786\"],[0.5555555555555556,\"#d8576b\"],[0.6666666666666666,\"#ed7953\"],[0.7777777777777778,\"#fb9f3a\"],[0.8888888888888888,\"#fdca26\"],[1.0,\"#f0f921\"]],\"type\":\"surface\"}],\"table\":[{\"cells\":{\"fill\":{\"color\":\"#EBF0F8\"},\"line\":{\"color\":\"white\"}},\"header\":{\"fill\":{\"color\":\"#C8D4E3\"},\"line\":{\"color\":\"white\"}},\"type\":\"table\"}]},\"layout\":{\"annotationdefaults\":{\"arrowcolor\":\"#2a3f5f\",\"arrowhead\":0,\"arrowwidth\":1},\"autotypenumbers\":\"strict\",\"coloraxis\":{\"colorbar\":{\"outlinewidth\":0,\"ticks\":\"\"}},\"colorscale\":{\"diverging\":[[0,\"#8e0152\"],[0.1,\"#c51b7d\"],[0.2,\"#de77ae\"],[0.3,\"#f1b6da\"],[0.4,\"#fde0ef\"],[0.5,\"#f7f7f7\"],[0.6,\"#e6f5d0\"],[0.7,\"#b8e186\"],[0.8,\"#7fbc41\"],[0.9,\"#4d9221\"],[1,\"#276419\"]],\"sequential\":[[0.0,\"#0d0887\"],[0.1111111111111111,\"#46039f\"],[0.2222222222222222,\"#7201a8\"],[0.3333333333333333,\"#9c179e\"],[0.4444444444444444,\"#bd3786\"],[0.5555555555555556,\"#d8576b\"],[0.6666666666666666,\"#ed7953\"],[0.7777777777777778,\"#fb9f3a\"],[0.8888888888888888,\"#fdca26\"],[1.0,\"#f0f921\"]],\"sequentialminus\":[[0.0,\"#0d0887\"],[0.1111111111111111,\"#46039f\"],[0.2222222222222222,\"#7201a8\"],[0.3333333333333333,\"#9c179e\"],[0.4444444444444444,\"#bd3786\"],[0.5555555555555556,\"#d8576b\"],[0.6666666666666666,\"#ed7953\"],[0.7777777777777778,\"#fb9f3a\"],[0.8888888888888888,\"#fdca26\"],[1.0,\"#f0f921\"]]},\"colorway\":[\"#636efa\",\"#EF553B\",\"#00cc96\",\"#ab63fa\",\"#FFA15A\",\"#19d3f3\",\"#FF6692\",\"#B6E880\",\"#FF97FF\",\"#FECB52\"],\"font\":{\"color\":\"#2a3f5f\"},\"geo\":{\"bgcolor\":\"white\",\"lakecolor\":\"white\",\"landcolor\":\"white\",\"showlakes\":true,\"showland\":true,\"subunitcolor\":\"#C8D4E3\"},\"hoverlabel\":{\"align\":\"left\"},\"hovermode\":\"closest\",\"mapbox\":{\"style\":\"light\"},\"paper_bgcolor\":\"white\",\"plot_bgcolor\":\"white\",\"polar\":{\"angularaxis\":{\"gridcolor\":\"#EBF0F8\",\"linecolor\":\"#EBF0F8\",\"ticks\":\"\"},\"bgcolor\":\"white\",\"radialaxis\":{\"gridcolor\":\"#EBF0F8\",\"linecolor\":\"#EBF0F8\",\"ticks\":\"\"}},\"scene\":{\"xaxis\":{\"backgroundcolor\":\"white\",\"gridcolor\":\"#DFE8F3\",\"gridwidth\":2,\"linecolor\":\"#EBF0F8\",\"showbackground\":true,\"ticks\":\"\",\"zerolinecolor\":\"#EBF0F8\"},\"yaxis\":{\"backgroundcolor\":\"white\",\"gridcolor\":\"#DFE8F3\",\"gridwidth\":2,\"linecolor\":\"#EBF0F8\",\"showbackground\":true,\"ticks\":\"\",\"zerolinecolor\":\"#EBF0F8\"},\"zaxis\":{\"backgroundcolor\":\"white\",\"gridcolor\":\"#DFE8F3\",\"gridwidth\":2,\"linecolor\":\"#EBF0F8\",\"showbackground\":true,\"ticks\":\"\",\"zerolinecolor\":\"#EBF0F8\"}},\"shapedefaults\":{\"line\":{\"color\":\"#2a3f5f\"}},\"ternary\":{\"aaxis\":{\"gridcolor\":\"#DFE8F3\",\"linecolor\":\"#A2B1C6\",\"ticks\":\"\"},\"baxis\":{\"gridcolor\":\"#DFE8F3\",\"linecolor\":\"#A2B1C6\",\"ticks\":\"\"},\"bgcolor\":\"white\",\"caxis\":{\"gridcolor\":\"#DFE8F3\",\"linecolor\":\"#A2B1C6\",\"ticks\":\"\"}},\"title\":{\"x\":0.05},\"xaxis\":{\"automargin\":true,\"gridcolor\":\"#EBF0F8\",\"linecolor\":\"#EBF0F8\",\"ticks\":\"\",\"title\":{\"standoff\":15},\"zerolinecolor\":\"#EBF0F8\",\"zerolinewidth\":2},\"yaxis\":{\"automargin\":true,\"gridcolor\":\"#EBF0F8\",\"linecolor\":\"#EBF0F8\",\"ticks\":\"\",\"title\":{\"standoff\":15},\"zerolinecolor\":\"#EBF0F8\",\"zerolinewidth\":2}}},\"xaxis\":{\"anchor\":\"y\",\"domain\":[0.0,0.9400000000000001]},\"yaxis\":{\"anchor\":\"x\",\"domain\":[0.7466666666666667,1.0]},\"xaxis2\":{\"anchor\":\"y2\",\"domain\":[0.0,0.37]},\"yaxis2\":{\"anchor\":\"x2\",\"domain\":[0.37333333333333335,0.6266666666666667]},\"yaxis3\":{\"anchor\":\"x2\",\"overlaying\":\"y2\",\"side\":\"right\"},\"xaxis3\":{\"anchor\":\"y4\",\"domain\":[0.5700000000000001,0.9400000000000001]},\"yaxis4\":{\"anchor\":\"x3\",\"domain\":[0.37333333333333335,0.6266666666666667]},\"xaxis4\":{\"anchor\":\"y5\",\"domain\":[0.0,0.37]},\"yaxis5\":{\"anchor\":\"x4\",\"domain\":[0.0,0.25333333333333335]},\"xaxis5\":{\"anchor\":\"y6\",\"domain\":[0.5700000000000001,0.9400000000000001]},\"yaxis6\":{\"anchor\":\"x5\",\"domain\":[0.0,0.25333333333333335]},\"annotations\":[{\"font\":{\"size\":16},\"showarrow\":false,\"text\":\"IPC Phase Timeline\",\"x\":0.47000000000000003,\"xanchor\":\"center\",\"xref\":\"paper\",\"y\":1.0,\"yanchor\":\"bottom\",\"yref\":\"paper\"},{\"font\":{\"size\":16},\"showarrow\":false,\"text\":\"Risk Score Prediction\",\"x\":0.185,\"xanchor\":\"center\",\"xref\":\"paper\",\"y\":0.6266666666666667,\"yanchor\":\"bottom\",\"yref\":\"paper\"},{\"font\":{\"size\":16},\"showarrow\":false,\"text\":\"Rainfall vs Food Prices\",\"x\":0.7550000000000001,\"xanchor\":\"center\",\"xref\":\"paper\",\"y\":0.6266666666666667,\"yanchor\":\"bottom\",\"yref\":\"paper\"},{\"font\":{\"size\":16},\"showarrow\":false,\"text\":\"Conflict Impact\",\"x\":0.185,\"xanchor\":\"center\",\"xref\":\"paper\",\"y\":0.25333333333333335,\"yanchor\":\"bottom\",\"yref\":\"paper\"},{\"font\":{\"size\":16},\"showarrow\":false,\"text\":\"Feature Importance\",\"x\":0.7550000000000001,\"xanchor\":\"center\",\"xref\":\"paper\",\"y\":0.25333333333333335,\"yanchor\":\"bottom\",\"yref\":\"paper\"},{\"bgcolor\":\"lightblue\",\"bordercolor\":\"blue\",\"borderwidth\":1,\"font\":{\"color\":\"black\",\"size\":14},\"showarrow\":false,\"text\":\"Current Status: IPC Phase 2 - Turkana\",\"x\":0.5,\"xref\":\"paper\",\"y\":0.95,\"yref\":\"paper\"}],\"shapes\":[{\"fillcolor\":\"green\",\"opacity\":0.1,\"type\":\"rect\",\"x0\":0,\"x1\":1,\"xref\":\"x domain\",\"y0\":1,\"y1\":2,\"yref\":\"y\"},{\"fillcolor\":\"yellow\",\"opacity\":0.1,\"type\":\"rect\",\"x0\":0,\"x1\":1,\"xref\":\"x domain\",\"y0\":2,\"y1\":3,\"yref\":\"y\"},{\"fillcolor\":\"orange\",\"opacity\":0.1,\"type\":\"rect\",\"x0\":0,\"x1\":1,\"xref\":\"x domain\",\"y0\":3,\"y1\":4,\"yref\":\"y\"},{\"fillcolor\":\"red\",\"opacity\":0.1,\"type\":\"rect\",\"x0\":0,\"x1\":1,\"xref\":\"x domain\",\"y0\":4,\"y1\":5,\"yref\":\"y\"}],\"title\":{\"text\":\"\\ud83c\\uddf0\\ud83c\\uddea Kenya Food Security Warning System - Interactive Dashboard\",\"x\":0.5},\"height\":900,\"showlegend\":true},                        {\"responsive\": true}                    ).then(function(){\n",
       "                            \n",
       "var gd = document.getElementById('31c3c9ac-dd56-4ee5-a744-bae2f3972c86');\n",
       "var x = new MutationObserver(function (mutations, observer) {{\n",
       "        var display = window.getComputedStyle(gd).display;\n",
       "        if (!display || display === 'none') {{\n",
       "            console.log([gd, 'removed!']);\n",
       "            Plotly.purge(gd);\n",
       "            observer.disconnect();\n",
       "        }}\n",
       "}});\n",
       "\n",
       "// Listen for the removal of the full notebook cells\n",
       "var notebookContainer = gd.closest('#notebook-container');\n",
       "if (notebookContainer) {{\n",
       "    x.observe(notebookContainer, {childList: true});\n",
       "}}\n",
       "\n",
       "// Listen for the clearing of the current output cell\n",
       "var outputEl = gd.closest('.output');\n",
       "if (outputEl) {{\n",
       "    x.observe(outputEl, {childList: true});\n",
       "}}\n",
       "\n",
       "                        })                };            </script>        </div>"
      ]
     },
     "metadata": {},
     "output_type": "display_data"
    },
    {
     "name": "stdout",
     "output_type": "stream",
     "text": [
      "📊 Interactive Dashboard Created!\n",
      "==================================================\n",
      "✅ Dashboard includes:\n",
      "   • IPC Phase Timeline with risk bands\n",
      "   • Rainfall vs Food Price relationship\n"
     ]
    }
   ],
   "source": [
    "def create_interactive_dashboard():\n",
    "    \"\"\"\n",
    "    Create an interactive dashboard for the food security warning system\n",
    "    \"\"\"\n",
    "    \n",
    "    # Latest data point\n",
    "    latest = df.iloc[-1]\n",
    "    \n",
    "    # Create dashboard layout\n",
    "    fig = make_subplots(\n",
    "        rows=3, cols=2,\n",
    "        subplot_titles=('IPC Phase Timeline', 'Risk Score Prediction',\n",
    "                       'Rainfall vs Food Prices', 'Conflict Impact',\n",
    "                       'Feature Importance', 'Monthly Predictions'),\n",
    "        specs=[[{\"colspan\": 2}, None],\n",
    "               [{\"secondary_y\": True}, {\"secondary_y\": False}],\n",
    "               [{\"secondary_y\": False}, {\"secondary_y\": False}]],\n",
    "        vertical_spacing=0.12\n",
    "    )\n",
    "    \n",
    "    # 1. IPC Phase Timeline\n",
    "    fig.add_trace(\n",
    "        go.Scatter(x=df['date'], y=df['ipc_phase'], mode='lines+markers',\n",
    "                  name='Actual IPC Phase', line=dict(color='red', width=3),\n",
    "                  marker=dict(size=8)),\n",
    "        row=1, col=1\n",
    "    )\n",
    "    \n",
    "    # Add IPC phase bands\n",
    "    fig.add_hrect(y0=1, y1=2, fillcolor=\"green\", opacity=0.1, row=1, col=1)\n",
    "    fig.add_hrect(y0=2, y1=3, fillcolor=\"yellow\", opacity=0.1, row=1, col=1)\n",
    "    fig.add_hrect(y0=3, y1=4, fillcolor=\"orange\", opacity=0.1, row=1, col=1)\n",
    "    fig.add_hrect(y0=4, y1=5, fillcolor=\"red\", opacity=0.1, row=1, col=1)\n",
    "    \n",
    "    # 2. Rainfall vs Food Prices (scatter)\n",
    "    fig.add_trace(\n",
    "        go.Scatter(x=df['rainfall_mm'], y=df['food_price_index'],\n",
    "                  mode='markers', name='Data Points',\n",
    "                  marker=dict(size=8, color=df['ipc_phase'], \n",
    "                            colorscale='RdYlGn_r', showscale=True,\n",
    "                            colorbar=dict(title=\"IPC Phase\"))),\n",
    "        row=2, col=1\n",
    "    )\n",
    "    \n",
    "    # 3. Conflict Events\n",
    "    fig.add_trace(\n",
    "        go.Bar(x=df['date'], y=df['conflict_events'], name='Conflict Events',\n",
    "              marker_color='darkred', opacity=0.7),\n",
    "        row=2, col=2\n",
    "    )\n",
    "    \n",
    "    # 4. Feature Importance\n",
    "    fig.add_trace(\n",
    "        go.Bar(x=feature_importance['importance'][:8], \n",
    "               y=feature_importance['feature'][:8],\n",
    "               orientation='h', name='Feature Importance',\n",
    "               marker_color='steelblue'),\n",
    "        row=3, col=1\n",
    "    )\n",
    "    \n",
    "    # 5. Predictions for next 3 months\n",
    "    future_months = ['Aug 2024', 'Sep 2024', 'Oct 2024']\n",
    "    predictions = []\n",
    "    \n",
    "    for i, month in enumerate(future_months):\n",
    "        # Simulate future predictions\n",
    "        pred_rainfall = max(15, latest['rainfall_mm'] + np.random.normal(0, 10))\n",
    "        pred_price = latest['food_price_index'] + np.random.normal(0, 5)\n",
    "        pred_conflicts = max(0, int(latest['conflict_events'] + np.random.normal(0, 1)))\n",
    "        \n",
    "        pred_result = predict_food_security(pred_rainfall, pred_price, pred_conflicts)\n",
    "        predictions.append(pred_result['ipc_phase'])\n",
    "    \n",
    "    fig.add_trace(\n",
    "        go.Bar(x=future_months, y=predictions, name='Predicted IPC Phase',\n",
    "              marker_color=['red' if p >= 4 else 'orange' if p == 3 else 'yellow' if p == 2 else 'green' \n",
    "                           for p in predictions]),\n",
    "        row=3, col=2\n",
    "    )\n",
    "    \n",
    "    # Update layout\n",
    "    fig.update_layout(\n",
    "        title_text=\"🇰🇪 Kenya Food Security Warning System - Interactive Dashboard\",\n",
    "        title_x=0.5,\n",
    "        height=900,\n",
    "        showlegend=True,\n",
    "        template=\"plotly_white\"\n",
    "    )\n",
    "    \n",
    "    # Add annotations for current status\n",
    "    fig.add_annotation(\n",
    "        text=f\"Current Status: IPC Phase {int(latest['ipc_phase'])} - {latest['county']}\",\n",
    "        xref=\"paper\", yref=\"paper\",\n",
    "        x=0.5, y=0.95, showarrow=False,\n",
    "        font=dict(size=14, color=\"black\"),\n",
    "        bgcolor=\"lightblue\", bordercolor=\"blue\", borderwidth=1\n",
    "    )\n",
    "    \n",
    "    return fig\n",
    "\n",
    "# Create and display the dashboard\n",
    "dashboard = create_interactive_dashboard()\n",
    "dashboard.show()\n",
    "\n",
    "print(\"📊 Interactive Dashboard Created!\")\n",
    "print(\"=\" * 50)\n",
    "print(\"✅ Dashboard includes:\")\n",
    "print(\"   • IPC Phase Timeline with risk bands\")\n",
    "print(\"   • Rainfall vs Food Price relationship\")"
   ]
  },
  {
   "cell_type": "code",
   "execution_count": 55,
   "id": "fe77a15d-aefa-44d9-b3a7-5fcf555ed12f",
   "metadata": {},
   "outputs": [
    {
     "name": "stdout",
     "output_type": "stream",
     "text": [
      "💾 Models and scaler saved successfully!\n",
      "   • 'rf_classifier_food_security.pkl'\n",
      "   • 'rf_regressor_food_security.pkl'\n",
      "   • 'scaler_food_security.pkl'\n"
     ]
    }
   ],
   "source": [
    "# Save the trained models and the scaler for future use\n",
    "joblib.dump(rf_classifier, 'rf_classifier_food_security.pkl')\n",
    "joblib.dump(rf_regressor, 'rf_regressor_food_security.pkl')\n",
    "joblib.dump(scaler, 'scaler_food_security.pkl')\n",
    "\n",
    "print(\"💾 Models and scaler saved successfully!\")\n",
    "print(\"   • 'rf_classifier_food_security.pkl'\")\n",
    "print(\"   • 'rf_regressor_food_security.pkl'\")\n",
    "print(\"   • 'scaler_food_security.pkl'\")"
   ]
  },
  {
   "cell_type": "code",
   "execution_count": 56,
   "id": "ef79aa59-5693-45b5-a17e-3fccd869d03a",
   "metadata": {},
   "outputs": [
    {
     "name": "stdout",
     "output_type": "stream",
     "text": [
      "🔄 Models and scaler loaded successfully for new predictions!\n",
      "\n",
      "🚀 Making a new prediction using loaded models:\n",
      "Scenario: Rainfall=30mm, Food Price=110, Conflicts=5, Month=8\n",
      "  🟠 Predicted IPC Phase: 3 (CRISIS)\n",
      "  Predicted Risk Score: 36.6/100\n",
      "  Confidence: 42.0%\n",
      "  Phase Probabilities: {'Phase 1': np.float64(36.0), 'Phase 2': np.float64(42.0), 'Phase 3': np.float64(22.0)}\n"
     ]
    }
   ],
   "source": [
    "\n",
    "# Load the saved models and scaler\n",
    "loaded_classifier = joblib.load('rf_classifier_food_security.pkl')\n",
    "loaded_regressor = joblib.load('rf_regressor_food_security.pkl')\n",
    "loaded_scaler = joblib.load('scaler_food_security.pkl')\n",
    "\n",
    "print(\"🔄 Models and scaler loaded successfully for new predictions!\")\n",
    "\n",
    "def predict_food_security_loaded(rainfall, food_price, conflicts, temperature=29, \n",
    "                                 ndvi_anomaly=-0.3, market_access=60, month=7):\n",
    "    \"\"\"\n",
    "    Predict food security status based on input parameters using loaded models.\n",
    "    \n",
    "    Parameters:\n",
    "    - rainfall: Monthly rainfall in mm\n",
    "    - food_price: Food price index\n",
    "    - conflicts: Number of conflict events\n",
    "    - temperature: Average temperature (default: 29°C)\n",
    "    - ndvi_anomaly: Vegetation health anomaly (default: -0.3)\n",
    "    - market_access: Market accessibility score (default: 60)\n",
    "    - month: Month of year (default: 7 for July)\n",
    "    \n",
    "    Returns:\n",
    "    - Dictionary with predictions and risk assessment\n",
    "    \"\"\"\n",
    "    \n",
    "    # Calculate derived features (must be consistent with training data)\n",
    "    rainfall_anomaly = ((rainfall - 45) / 45) * 100  # Assuming 45mm as average used in feature engineering\n",
    "    drought_index = -1.5 if rainfall < 30 else (-0.5 if rainfall < 50 else 0.2)\n",
    "    quarter = (month - 1) // 3 + 1\n",
    "    \n",
    "    # Create input array\n",
    "    input_features = np.array([[\n",
    "        rainfall, rainfall_anomaly, temperature, food_price, conflicts,\n",
    "        ndvi_anomaly, market_access, drought_index,\n",
    "        rainfall, food_price, conflicts,  # lag features (simplified for new prediction)\n",
    "        rainfall, food_price,  # moving averages (simplified for new prediction)\n",
    "        month, quarter\n",
    "    ]])\n",
    "    \n",
    "    # Scale features using the loaded scaler\n",
    "    input_scaled = loaded_scaler.transform(input_features)\n",
    "    \n",
    "    # Make predictions\n",
    "    ipc_pred = loaded_classifier.predict(input_scaled)[0]\n",
    "    ipc_proba = loaded_classifier.predict_proba(input_scaled)[0]\n",
    "    risk_score = loaded_regressor.predict(input_scaled)[0]\n",
    "    \n",
    "    # Risk assessment\n",
    "    if ipc_pred >= 4:\n",
    "        risk_level = \"EMERGENCY\"\n",
    "        color = \"🔴\"\n",
    "    elif ipc_pred == 3:\n",
    "        risk_level = \"CRISIS\"\n",
    "        color = \"🟠\"\n",
    "    elif ipc_pred == 2:\n",
    "        risk_level = \"STRESSED\"\n",
    "        color = \"🟡\"\n",
    "    else:\n",
    "        risk_level = \"MINIMAL\"\n",
    "        color = \"🟢\"\n",
    "    \n",
    "    return {\n",
    "        'ipc_phase': int(ipc_pred),\n",
    "        'risk_level': risk_level,\n",
    "        'risk_score': round(risk_score, 1),\n",
    "        'confidence': round(max(ipc_proba) * 100, 1),\n",
    "        'color': color,\n",
    "        'phase_probabilities': {f'Phase {i+1}': round(prob*100, 1) \n",
    "                                for i, prob in enumerate(ipc_proba)}\n",
    "    }\n",
    "\n",
    "print(\"\\n🚀 Making a new prediction using loaded models:\")\n",
    "# Example: Predict for a future scenario with increased food prices and conflicts\n",
    "new_rainfall = 30 # mm\n",
    "new_food_price = 110 # index\n",
    "new_conflicts = 5 # events\n",
    "new_month = 8 # August\n",
    "\n",
    "new_prediction_result = predict_food_security_loaded(\n",
    "    rainfall=new_rainfall,\n",
    "    food_price=new_food_price,\n",
    "    conflicts=new_conflicts,\n",
    "    month=new_month\n",
    ")\n",
    "\n",
    "print(f\"Scenario: Rainfall={new_rainfall}mm, Food Price={new_food_price}, Conflicts={new_conflicts}, Month={new_month}\")\n",
    "print(f\"  {new_prediction_result['color']} Predicted IPC Phase: {new_prediction_result['ipc_phase']} ({new_prediction_result['risk_level']})\")\n",
    "print(f\"  Predicted Risk Score: {new_prediction_result['risk_score']}/100\")\n",
    "print(f\"  Confidence: {new_prediction_result['confidence']}%\")\n",
    "print(f\"  Phase Probabilities: {new_prediction_result['phase_probabilities']}\")\n"
   ]
  },
  {
   "cell_type": "code",
   "execution_count": 57,
   "id": "657b34c4-26a9-4376-bdf2-84c9e2f6a68c",
   "metadata": {},
   "outputs": [
    {
     "name": "stdout",
     "output_type": "stream",
     "text": [
      "\n",
      "⏩ NEXT STEPS AND RECOMMENDATIONS\n",
      "==================================================\n",
      "1. Data Collection and Integration:\n",
      "   • Continuously update the dataset with the latest monthly data for rainfall, food prices, conflict, NDVI, etc.\n",
      "   • Explore integrating more granular data sources (e.g., specific crop yields, livestock health, local market data).\n",
      "   • Consider incorporating climate change projections and long-term economic forecasts.\n",
      "\n",
      "2. Model Refinement and Monitoring:\n",
      "   • Regularly re-train models with new data to capture evolving patterns and maintain accuracy.\n",
      "   • Implement A/B testing for different model architectures (e.g., Gradient Boosting, LSTM for time series).\n",
      "   • Establish a robust model monitoring system to detect performance degradation and data drift.\n",
      "   • Optimize hyperparameters using techniques like GridSearchCV or RandomizedSearchCV for better performance.\n",
      "\n",
      "3. User Interface and Alert System:\n",
      "   • Develop a dedicated web application for the dashboard to make it accessible to stakeholders.\n",
      "   • Implement an automated alert system (email, SMS) for high-risk predictions or IPC phase deteriorations.\n",
      "   • Design user-friendly input forms for the prediction function to allow manual scenario testing.\n",
      "\n",
      "4. Spatial Analysis:\n",
      "   • Expand the system to cover more counties, accounting for regional variations in food security drivers.\n",
      "   • Develop interactive maps showing IPC phase predictions and risk scores at the county level.\n",
      "   • Integrate GIS data for more localized insights (e.g., road networks, water sources).\n",
      "\n",
      "5. Policy and Intervention Support:\n",
      "   • Work with policymakers to define clear thresholds for early action based on prediction outcomes.\n",
      "   • Conduct sensitivity analysis to understand how changes in input variables impact food security outcomes, informing targeted interventions.\n",
      "   • Develop counterfactual scenarios to assess the potential impact of different intervention strategies (e.g., food aid, cash transfers).\n",
      "\n",
      "6. Collaboration and Validation:\n",
      "   • Collaborate with local food security experts, NGOs, and government agencies for ground-truthing and validation of predictions.\n",
      "   • Share insights and findings with the broader humanitarian and development community.\n",
      "\n",
      "💡 This system provides a strong foundation for proactive food security management in Kenya. Continuous improvement and stakeholder engagement will be key to its long-term success.\n"
     ]
    }
   ],
   "source": [
    "\n",
    "print(\"\\n⏩ NEXT STEPS AND RECOMMENDATIONS\")\n",
    "print(\"=\" * 50)\n",
    "\n",
    "print(\"1. Data Collection and Integration:\")\n",
    "print(\"   • Continuously update the dataset with the latest monthly data for rainfall, food prices, conflict, NDVI, etc.\")\n",
    "print(\"   • Explore integrating more granular data sources (e.g., specific crop yields, livestock health, local market data).\")\n",
    "print(\"   • Consider incorporating climate change projections and long-term economic forecasts.\")\n",
    "\n",
    "print(\"\\n2. Model Refinement and Monitoring:\")\n",
    "print(\"   • Regularly re-train models with new data to capture evolving patterns and maintain accuracy.\")\n",
    "print(\"   • Implement A/B testing for different model architectures (e.g., Gradient Boosting, LSTM for time series).\")\n",
    "print(\"   • Establish a robust model monitoring system to detect performance degradation and data drift.\")\n",
    "print(\"   • Optimize hyperparameters using techniques like GridSearchCV or RandomizedSearchCV for better performance.\")\n",
    "\n",
    "print(\"\\n3. User Interface and Alert System:\")\n",
    "print(\"   • Develop a dedicated web application for the dashboard to make it accessible to stakeholders.\")\n",
    "print(\"   • Implement an automated alert system (email, SMS) for high-risk predictions or IPC phase deteriorations.\")\n",
    "print(\"   • Design user-friendly input forms for the prediction function to allow manual scenario testing.\")\n",
    "\n",
    "print(\"\\n4. Spatial Analysis:\")\n",
    "print(\"   • Expand the system to cover more counties, accounting for regional variations in food security drivers.\")\n",
    "print(\"   • Develop interactive maps showing IPC phase predictions and risk scores at the county level.\")\n",
    "print(\"   • Integrate GIS data for more localized insights (e.g., road networks, water sources).\")\n",
    "\n",
    "print(\"\\n5. Policy and Intervention Support:\")\n",
    "print(\"   • Work with policymakers to define clear thresholds for early action based on prediction outcomes.\")\n",
    "print(\"   • Conduct sensitivity analysis to understand how changes in input variables impact food security outcomes, informing targeted interventions.\")\n",
    "print(\"   • Develop counterfactual scenarios to assess the potential impact of different intervention strategies (e.g., food aid, cash transfers).\")\n",
    "\n",
    "print(\"\\n6. Collaboration and Validation:\")\n",
    "print(\"   • Collaborate with local food security experts, NGOs, and government agencies for ground-truthing and validation of predictions.\")\n",
    "print(\"   • Share insights and findings with the broader humanitarian and development community.\")\n",
    "\n",
    "print(\"\\n💡 This system provides a strong foundation for proactive food security management in Kenya. Continuous improvement and stakeholder engagement will be key to its long-term success.\")\n",
    "\n"
   ]
  },
  {
   "cell_type": "code",
   "execution_count": null,
   "id": "cdbbe2fc-7651-4d67-8c48-cb9ffdf2bd3e",
   "metadata": {},
   "outputs": [],
   "source": []
  }
 ],
 "metadata": {
  "kernelspec": {
   "display_name": "Python 3 (ipykernel)",
   "language": "python",
   "name": "python3"
  },
  "language_info": {
   "codemirror_mode": {
    "name": "ipython",
    "version": 3
   },
   "file_extension": ".py",
   "mimetype": "text/x-python",
   "name": "python",
   "nbconvert_exporter": "python",
   "pygments_lexer": "ipython3",
   "version": "3.12.3"
  }
 },
 "nbformat": 4,
 "nbformat_minor": 5
}
